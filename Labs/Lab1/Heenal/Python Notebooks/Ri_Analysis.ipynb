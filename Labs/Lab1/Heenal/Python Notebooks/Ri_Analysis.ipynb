{
 "cells": [
  {
   "cell_type": "code",
   "execution_count": 26,
   "metadata": {},
   "outputs": [],
   "source": [
    "# Importing all necessary packages\n",
    "\n",
    "import numpy as np\n",
    "import pandas as pd\n",
    "import seaborn as sns"
   ]
  },
  {
   "cell_type": "code",
   "execution_count": 27,
   "metadata": {},
   "outputs": [
    {
     "data": {
      "text/html": [
       "<div>\n",
       "<style scoped>\n",
       "    .dataframe tbody tr th:only-of-type {\n",
       "        vertical-align: middle;\n",
       "    }\n",
       "\n",
       "    .dataframe tbody tr th {\n",
       "        vertical-align: top;\n",
       "    }\n",
       "\n",
       "    .dataframe thead th {\n",
       "        text-align: right;\n",
       "    }\n",
       "</style>\n",
       "<table border=\"1\" class=\"dataframe\">\n",
       "  <thead>\n",
       "    <tr style=\"text-align: right;\">\n",
       "      <th></th>\n",
       "      <th>stop_date</th>\n",
       "      <th>stop_time</th>\n",
       "      <th>county_name</th>\n",
       "      <th>driver_gender</th>\n",
       "      <th>driver_age_raw</th>\n",
       "      <th>driver_age</th>\n",
       "      <th>driver_race</th>\n",
       "      <th>violation_raw</th>\n",
       "      <th>violation</th>\n",
       "      <th>search_conducted</th>\n",
       "      <th>search_type</th>\n",
       "      <th>stop_outcome</th>\n",
       "      <th>is_arrested</th>\n",
       "      <th>stop_duration</th>\n",
       "      <th>drugs_related_stop</th>\n",
       "    </tr>\n",
       "  </thead>\n",
       "  <tbody>\n",
       "    <tr>\n",
       "      <th>0</th>\n",
       "      <td>2005-01-02</td>\n",
       "      <td>01:55</td>\n",
       "      <td>NaN</td>\n",
       "      <td>M</td>\n",
       "      <td>1985.0</td>\n",
       "      <td>20.0</td>\n",
       "      <td>White</td>\n",
       "      <td>Speeding</td>\n",
       "      <td>Speeding</td>\n",
       "      <td>False</td>\n",
       "      <td>NaN</td>\n",
       "      <td>Citation</td>\n",
       "      <td>False</td>\n",
       "      <td>0-15 Min</td>\n",
       "      <td>False</td>\n",
       "    </tr>\n",
       "    <tr>\n",
       "      <th>1</th>\n",
       "      <td>2005-01-18</td>\n",
       "      <td>08:15</td>\n",
       "      <td>NaN</td>\n",
       "      <td>M</td>\n",
       "      <td>1965.0</td>\n",
       "      <td>40.0</td>\n",
       "      <td>White</td>\n",
       "      <td>Speeding</td>\n",
       "      <td>Speeding</td>\n",
       "      <td>False</td>\n",
       "      <td>NaN</td>\n",
       "      <td>Citation</td>\n",
       "      <td>False</td>\n",
       "      <td>0-15 Min</td>\n",
       "      <td>False</td>\n",
       "    </tr>\n",
       "    <tr>\n",
       "      <th>2</th>\n",
       "      <td>2005-01-23</td>\n",
       "      <td>23:15</td>\n",
       "      <td>NaN</td>\n",
       "      <td>M</td>\n",
       "      <td>1972.0</td>\n",
       "      <td>33.0</td>\n",
       "      <td>White</td>\n",
       "      <td>Speeding</td>\n",
       "      <td>Speeding</td>\n",
       "      <td>False</td>\n",
       "      <td>NaN</td>\n",
       "      <td>Citation</td>\n",
       "      <td>False</td>\n",
       "      <td>0-15 Min</td>\n",
       "      <td>False</td>\n",
       "    </tr>\n",
       "    <tr>\n",
       "      <th>3</th>\n",
       "      <td>2005-02-20</td>\n",
       "      <td>17:15</td>\n",
       "      <td>NaN</td>\n",
       "      <td>M</td>\n",
       "      <td>1986.0</td>\n",
       "      <td>19.0</td>\n",
       "      <td>White</td>\n",
       "      <td>Call for Service</td>\n",
       "      <td>Other</td>\n",
       "      <td>False</td>\n",
       "      <td>NaN</td>\n",
       "      <td>Arrest Driver</td>\n",
       "      <td>True</td>\n",
       "      <td>16-30 Min</td>\n",
       "      <td>False</td>\n",
       "    </tr>\n",
       "    <tr>\n",
       "      <th>4</th>\n",
       "      <td>2005-03-14</td>\n",
       "      <td>10:00</td>\n",
       "      <td>NaN</td>\n",
       "      <td>F</td>\n",
       "      <td>1984.0</td>\n",
       "      <td>21.0</td>\n",
       "      <td>White</td>\n",
       "      <td>Speeding</td>\n",
       "      <td>Speeding</td>\n",
       "      <td>False</td>\n",
       "      <td>NaN</td>\n",
       "      <td>Citation</td>\n",
       "      <td>False</td>\n",
       "      <td>0-15 Min</td>\n",
       "      <td>False</td>\n",
       "    </tr>\n",
       "  </tbody>\n",
       "</table>\n",
       "</div>"
      ],
      "text/plain": [
       "    stop_date stop_time  county_name driver_gender  driver_age_raw  \\\n",
       "0  2005-01-02     01:55          NaN             M          1985.0   \n",
       "1  2005-01-18     08:15          NaN             M          1965.0   \n",
       "2  2005-01-23     23:15          NaN             M          1972.0   \n",
       "3  2005-02-20     17:15          NaN             M          1986.0   \n",
       "4  2005-03-14     10:00          NaN             F          1984.0   \n",
       "\n",
       "   driver_age driver_race     violation_raw violation  search_conducted  \\\n",
       "0        20.0       White          Speeding  Speeding             False   \n",
       "1        40.0       White          Speeding  Speeding             False   \n",
       "2        33.0       White          Speeding  Speeding             False   \n",
       "3        19.0       White  Call for Service     Other             False   \n",
       "4        21.0       White          Speeding  Speeding             False   \n",
       "\n",
       "  search_type   stop_outcome is_arrested stop_duration  drugs_related_stop  \n",
       "0         NaN       Citation       False      0-15 Min               False  \n",
       "1         NaN       Citation       False      0-15 Min               False  \n",
       "2         NaN       Citation       False      0-15 Min               False  \n",
       "3         NaN  Arrest Driver        True     16-30 Min               False  \n",
       "4         NaN       Citation       False      0-15 Min               False  "
      ]
     },
     "execution_count": 27,
     "metadata": {},
     "output_type": "execute_result"
    }
   ],
   "source": [
    "# Reading the csv data file\n",
    "\n",
    "ri = pd.read_csv('ri.csv')\n",
    "ri.head()"
   ]
  },
  {
   "cell_type": "markdown",
   "metadata": {},
   "source": [
    "##  Figuring out number of null values in each column"
   ]
  },
  {
   "cell_type": "code",
   "execution_count": 28,
   "metadata": {},
   "outputs": [
    {
     "data": {
      "text/plain": [
       "stop_date                 0\n",
       "stop_time                 0\n",
       "county_name           91741\n",
       "driver_gender          5335\n",
       "driver_age_raw         5327\n",
       "driver_age             5621\n",
       "driver_race            5333\n",
       "violation_raw          5333\n",
       "violation              5333\n",
       "search_conducted          0\n",
       "search_type           88545\n",
       "stop_outcome           5333\n",
       "is_arrested            5333\n",
       "stop_duration          5333\n",
       "drugs_related_stop        0\n",
       "dtype: int64"
      ]
     },
     "execution_count": 28,
     "metadata": {},
     "output_type": "execute_result"
    }
   ],
   "source": [
    "ri.isnull().sum()"
   ]
  },
  {
   "cell_type": "code",
   "execution_count": 29,
   "metadata": {},
   "outputs": [
    {
     "data": {
      "text/plain": [
       "91741"
      ]
     },
     "execution_count": 29,
     "metadata": {},
     "output_type": "execute_result"
    }
   ],
   "source": [
    "#Finding out the total number of rows\n",
    "\n",
    "ri.shape[0]"
   ]
  },
  {
   "cell_type": "markdown",
   "metadata": {},
   "source": [
    "** Questions :  **\n",
    "    1. Calculating who drives more faster, male or female?\n",
    "    2. Frequency of different violations in different age-groups\n",
    "    3. Frequency of search conduction in various races\n",
    "    4. Rate of violations during night\n",
    "    5. Searching those arrested in various search types\n",
    "    6. Count those caught for frisk\n",
    "    7. Analysis on drug_related_stops\n",
    "    \n"
   ]
  },
  {
   "cell_type": "markdown",
   "metadata": {},
   "source": [
    "# Q 1. Calculating who drives more faster, male or female?"
   ]
  },
  {
   "cell_type": "code",
   "execution_count": 30,
   "metadata": {},
   "outputs": [],
   "source": [
    "total_males = ri[(ri.driver_gender == 'M')].shape[0]\n",
    "total_females = ri[(ri.driver_gender == 'F')].shape[0]\n",
    "males_speed = ri[(ri.driver_gender == 'M') & (ri.violation == 'Speeding')].shape[0]\n",
    "females_speed = ri[(ri.driver_gender == 'F') & (ri.violation == 'Speeding')].shape[0]\n",
    "\n",
    "male_freq = (float(males_speed) / total_males)*100\n",
    "female_freq = (float(females_speed)/total_females)*100"
   ]
  },
  {
   "cell_type": "code",
   "execution_count": 31,
   "metadata": {},
   "outputs": [
    {
     "data": {
      "text/html": [
       "<div>\n",
       "<style scoped>\n",
       "    .dataframe tbody tr th:only-of-type {\n",
       "        vertical-align: middle;\n",
       "    }\n",
       "\n",
       "    .dataframe tbody tr th {\n",
       "        vertical-align: top;\n",
       "    }\n",
       "\n",
       "    .dataframe thead th {\n",
       "        text-align: right;\n",
       "    }\n",
       "</style>\n",
       "<table border=\"1\" class=\"dataframe\">\n",
       "  <thead>\n",
       "    <tr style=\"text-align: right;\">\n",
       "      <th>violation</th>\n",
       "      <th>Equipment</th>\n",
       "      <th>Moving violation</th>\n",
       "      <th>Other</th>\n",
       "      <th>Registration/plates</th>\n",
       "      <th>Seat belt</th>\n",
       "      <th>Speeding</th>\n",
       "    </tr>\n",
       "    <tr>\n",
       "      <th>driver_gender</th>\n",
       "      <th></th>\n",
       "      <th></th>\n",
       "      <th></th>\n",
       "      <th></th>\n",
       "      <th></th>\n",
       "      <th></th>\n",
       "    </tr>\n",
       "  </thead>\n",
       "  <tbody>\n",
       "    <tr>\n",
       "      <th>F</th>\n",
       "      <td>0.105780</td>\n",
       "      <td>0.136277</td>\n",
       "      <td>0.029348</td>\n",
       "      <td>0.043086</td>\n",
       "      <td>0.027009</td>\n",
       "      <td>0.65850</td>\n",
       "    </tr>\n",
       "    <tr>\n",
       "      <th>M</th>\n",
       "      <td>0.135671</td>\n",
       "      <td>0.207012</td>\n",
       "      <td>0.057668</td>\n",
       "      <td>0.038461</td>\n",
       "      <td>0.036839</td>\n",
       "      <td>0.52435</td>\n",
       "    </tr>\n",
       "  </tbody>\n",
       "</table>\n",
       "</div>"
      ],
      "text/plain": [
       "violation      Equipment  Moving violation     Other  Registration/plates  \\\n",
       "driver_gender                                                               \n",
       "F               0.105780          0.136277  0.029348             0.043086   \n",
       "M               0.135671          0.207012  0.057668             0.038461   \n",
       "\n",
       "violation      Seat belt  Speeding  \n",
       "driver_gender                       \n",
       "F               0.027009   0.65850  \n",
       "M               0.036839   0.52435  "
      ]
     },
     "execution_count": 31,
     "metadata": {},
     "output_type": "execute_result"
    }
   ],
   "source": [
    "ri.groupby(['driver_gender']).violation.value_counts(normalize=True).unstack()"
   ]
  },
  {
   "cell_type": "code",
   "execution_count": 32,
   "metadata": {
    "scrolled": true
   },
   "outputs": [
    {
     "data": {
      "text/plain": [
       "<matplotlib.axes._subplots.AxesSubplot at 0x7fd0eca01f10>"
      ]
     },
     "execution_count": 32,
     "metadata": {},
     "output_type": "execute_result"
    },
    {
     "data": {
      "image/png": "[encoded data removed]",
      "text/plain": [
       "<Figure size 432x288 with 1 Axes>"
      ]
     },
     "metadata": {},
     "output_type": "display_data"
    }
   ],
   "source": [
    "#ri.driver_gender.value_counts()\n",
    "\n",
    "ri.groupby(['driver_gender']).violation.value_counts(normalize=True).unstack().plot(kind = 'bar')"
   ]
  },
  {
   "cell_type": "markdown",
   "metadata": {},
   "source": [
    " #### Observation:\n",
    "\n",
    "Percent of female driver having 'Speeding' violation among the female drivers : 65.850  \n",
    "Percent of male driver having 'Speeding' violation among the male drivers : 52.435  \n",
    "\n",
    "**From the above analysis, we can say that female drivers are more often caught for 'Speeding' violation.**"
   ]
  },
  {
   "cell_type": "markdown",
   "metadata": {},
   "source": [
    "#  Q 2. Frequency of different violations in different age-groups"
   ]
  },
  {
   "cell_type": "code",
   "execution_count": 33,
   "metadata": {},
   "outputs": [],
   "source": [
    "# plotting bar graph from scratch\n",
    "\n",
    "s = []\n",
    "for i in range(1,10):\n",
    "    value = ri[(ri.driver_age > i*10) & (ri.driver_age <= (i+1)*10)].shape[0]\n",
    "    s.append(value)\n",
    "index = ['10-20', '20-30', '30-40', '40-50', '50-60', '60-70', '70-80', '80-90', '90-100']\n",
    "df = pd.DataFrame({'speed' : s}, index = index)"
   ]
  },
  {
   "cell_type": "code",
   "execution_count": 34,
   "metadata": {
    "scrolled": false
   },
   "outputs": [
    {
     "data": {
      "text/plain": [
       "<matplotlib.axes._subplots.AxesSubplot at 0x7fd0ec8af8d0>"
      ]
     },
     "execution_count": 34,
     "metadata": {},
     "output_type": "execute_result"
    },
    {
     "data": {
      "image/png": "[encoded data removed]",
      "text/plain": [
       "<Figure size 432x288 with 1 Axes>"
      ]
     },
     "metadata": {},
     "output_type": "display_data"
    }
   ],
   "source": [
    "df.plot.bar()"
   ]
  },
  {
   "cell_type": "code",
   "execution_count": 35,
   "metadata": {},
   "outputs": [
    {
     "data": {
      "text/html": [
       "<div>\n",
       "<style scoped>\n",
       "    .dataframe tbody tr th:only-of-type {\n",
       "        vertical-align: middle;\n",
       "    }\n",
       "\n",
       "    .dataframe tbody tr th {\n",
       "        vertical-align: top;\n",
       "    }\n",
       "\n",
       "    .dataframe thead th {\n",
       "        text-align: right;\n",
       "    }\n",
       "</style>\n",
       "<table border=\"1\" class=\"dataframe\">\n",
       "  <thead>\n",
       "    <tr style=\"text-align: right;\">\n",
       "      <th>violation</th>\n",
       "      <th>Equipment</th>\n",
       "      <th>Moving violation</th>\n",
       "      <th>Other</th>\n",
       "      <th>Registration/plates</th>\n",
       "      <th>Seat belt</th>\n",
       "      <th>Speeding</th>\n",
       "    </tr>\n",
       "    <tr>\n",
       "      <th>driver_age</th>\n",
       "      <th></th>\n",
       "      <th></th>\n",
       "      <th></th>\n",
       "      <th></th>\n",
       "      <th></th>\n",
       "      <th></th>\n",
       "    </tr>\n",
       "  </thead>\n",
       "  <tbody>\n",
       "    <tr>\n",
       "      <th>15.0</th>\n",
       "      <td>NaN</td>\n",
       "      <td>4.0</td>\n",
       "      <td>NaN</td>\n",
       "      <td>NaN</td>\n",
       "      <td>NaN</td>\n",
       "      <td>1.0</td>\n",
       "    </tr>\n",
       "    <tr>\n",
       "      <th>16.0</th>\n",
       "      <td>5.0</td>\n",
       "      <td>7.0</td>\n",
       "      <td>2.0</td>\n",
       "      <td>5.0</td>\n",
       "      <td>NaN</td>\n",
       "      <td>26.0</td>\n",
       "    </tr>\n",
       "    <tr>\n",
       "      <th>17.0</th>\n",
       "      <td>56.0</td>\n",
       "      <td>77.0</td>\n",
       "      <td>10.0</td>\n",
       "      <td>10.0</td>\n",
       "      <td>8.0</td>\n",
       "      <td>424.0</td>\n",
       "    </tr>\n",
       "    <tr>\n",
       "      <th>18.0</th>\n",
       "      <td>200.0</td>\n",
       "      <td>231.0</td>\n",
       "      <td>34.0</td>\n",
       "      <td>48.0</td>\n",
       "      <td>39.0</td>\n",
       "      <td>1181.0</td>\n",
       "    </tr>\n",
       "    <tr>\n",
       "      <th>19.0</th>\n",
       "      <td>457.0</td>\n",
       "      <td>447.0</td>\n",
       "      <td>78.0</td>\n",
       "      <td>93.0</td>\n",
       "      <td>79.0</td>\n",
       "      <td>2074.0</td>\n",
       "    </tr>\n",
       "    <tr>\n",
       "      <th>20.0</th>\n",
       "      <td>540.0</td>\n",
       "      <td>554.0</td>\n",
       "      <td>94.0</td>\n",
       "      <td>147.0</td>\n",
       "      <td>105.0</td>\n",
       "      <td>2354.0</td>\n",
       "    </tr>\n",
       "    <tr>\n",
       "      <th>21.0</th>\n",
       "      <td>623.0</td>\n",
       "      <td>634.0</td>\n",
       "      <td>97.0</td>\n",
       "      <td>144.0</td>\n",
       "      <td>152.0</td>\n",
       "      <td>2412.0</td>\n",
       "    </tr>\n",
       "    <tr>\n",
       "      <th>22.0</th>\n",
       "      <td>601.0</td>\n",
       "      <td>630.0</td>\n",
       "      <td>117.0</td>\n",
       "      <td>182.0</td>\n",
       "      <td>142.0</td>\n",
       "      <td>2453.0</td>\n",
       "    </tr>\n",
       "    <tr>\n",
       "      <th>23.0</th>\n",
       "      <td>664.0</td>\n",
       "      <td>666.0</td>\n",
       "      <td>90.0</td>\n",
       "      <td>167.0</td>\n",
       "      <td>157.0</td>\n",
       "      <td>2242.0</td>\n",
       "    </tr>\n",
       "    <tr>\n",
       "      <th>24.0</th>\n",
       "      <td>572.0</td>\n",
       "      <td>597.0</td>\n",
       "      <td>112.0</td>\n",
       "      <td>164.0</td>\n",
       "      <td>169.0</td>\n",
       "      <td>2168.0</td>\n",
       "    </tr>\n",
       "    <tr>\n",
       "      <th>25.0</th>\n",
       "      <td>537.0</td>\n",
       "      <td>583.0</td>\n",
       "      <td>123.0</td>\n",
       "      <td>161.0</td>\n",
       "      <td>167.0</td>\n",
       "      <td>1966.0</td>\n",
       "    </tr>\n",
       "    <tr>\n",
       "      <th>26.0</th>\n",
       "      <td>529.0</td>\n",
       "      <td>534.0</td>\n",
       "      <td>123.0</td>\n",
       "      <td>165.0</td>\n",
       "      <td>161.0</td>\n",
       "      <td>1823.0</td>\n",
       "    </tr>\n",
       "    <tr>\n",
       "      <th>27.0</th>\n",
       "      <td>446.0</td>\n",
       "      <td>538.0</td>\n",
       "      <td>113.0</td>\n",
       "      <td>150.0</td>\n",
       "      <td>151.0</td>\n",
       "      <td>1650.0</td>\n",
       "    </tr>\n",
       "    <tr>\n",
       "      <th>28.0</th>\n",
       "      <td>364.0</td>\n",
       "      <td>477.0</td>\n",
       "      <td>92.0</td>\n",
       "      <td>128.0</td>\n",
       "      <td>132.0</td>\n",
       "      <td>1587.0</td>\n",
       "    </tr>\n",
       "    <tr>\n",
       "      <th>29.0</th>\n",
       "      <td>353.0</td>\n",
       "      <td>471.0</td>\n",
       "      <td>88.0</td>\n",
       "      <td>111.0</td>\n",
       "      <td>98.0</td>\n",
       "      <td>1420.0</td>\n",
       "    </tr>\n",
       "    <tr>\n",
       "      <th>30.0</th>\n",
       "      <td>325.0</td>\n",
       "      <td>461.0</td>\n",
       "      <td>99.0</td>\n",
       "      <td>96.0</td>\n",
       "      <td>109.0</td>\n",
       "      <td>1346.0</td>\n",
       "    </tr>\n",
       "    <tr>\n",
       "      <th>31.0</th>\n",
       "      <td>329.0</td>\n",
       "      <td>384.0</td>\n",
       "      <td>82.0</td>\n",
       "      <td>86.0</td>\n",
       "      <td>94.0</td>\n",
       "      <td>1225.0</td>\n",
       "    </tr>\n",
       "    <tr>\n",
       "      <th>32.0</th>\n",
       "      <td>306.0</td>\n",
       "      <td>412.0</td>\n",
       "      <td>100.0</td>\n",
       "      <td>113.0</td>\n",
       "      <td>102.0</td>\n",
       "      <td>1153.0</td>\n",
       "    </tr>\n",
       "    <tr>\n",
       "      <th>33.0</th>\n",
       "      <td>280.0</td>\n",
       "      <td>379.0</td>\n",
       "      <td>87.0</td>\n",
       "      <td>75.0</td>\n",
       "      <td>74.0</td>\n",
       "      <td>1061.0</td>\n",
       "    </tr>\n",
       "    <tr>\n",
       "      <th>34.0</th>\n",
       "      <td>239.0</td>\n",
       "      <td>371.0</td>\n",
       "      <td>101.0</td>\n",
       "      <td>87.0</td>\n",
       "      <td>72.0</td>\n",
       "      <td>956.0</td>\n",
       "    </tr>\n",
       "    <tr>\n",
       "      <th>35.0</th>\n",
       "      <td>256.0</td>\n",
       "      <td>339.0</td>\n",
       "      <td>107.0</td>\n",
       "      <td>94.0</td>\n",
       "      <td>65.0</td>\n",
       "      <td>1007.0</td>\n",
       "    </tr>\n",
       "    <tr>\n",
       "      <th>36.0</th>\n",
       "      <td>191.0</td>\n",
       "      <td>324.0</td>\n",
       "      <td>98.0</td>\n",
       "      <td>76.0</td>\n",
       "      <td>64.0</td>\n",
       "      <td>956.0</td>\n",
       "    </tr>\n",
       "    <tr>\n",
       "      <th>37.0</th>\n",
       "      <td>202.0</td>\n",
       "      <td>310.0</td>\n",
       "      <td>85.0</td>\n",
       "      <td>86.0</td>\n",
       "      <td>48.0</td>\n",
       "      <td>899.0</td>\n",
       "    </tr>\n",
       "    <tr>\n",
       "      <th>38.0</th>\n",
       "      <td>194.0</td>\n",
       "      <td>327.0</td>\n",
       "      <td>83.0</td>\n",
       "      <td>69.0</td>\n",
       "      <td>42.0</td>\n",
       "      <td>886.0</td>\n",
       "    </tr>\n",
       "    <tr>\n",
       "      <th>39.0</th>\n",
       "      <td>165.0</td>\n",
       "      <td>353.0</td>\n",
       "      <td>100.0</td>\n",
       "      <td>70.0</td>\n",
       "      <td>40.0</td>\n",
       "      <td>830.0</td>\n",
       "    </tr>\n",
       "    <tr>\n",
       "      <th>40.0</th>\n",
       "      <td>181.0</td>\n",
       "      <td>323.0</td>\n",
       "      <td>112.0</td>\n",
       "      <td>76.0</td>\n",
       "      <td>38.0</td>\n",
       "      <td>852.0</td>\n",
       "    </tr>\n",
       "    <tr>\n",
       "      <th>41.0</th>\n",
       "      <td>169.0</td>\n",
       "      <td>328.0</td>\n",
       "      <td>97.0</td>\n",
       "      <td>59.0</td>\n",
       "      <td>43.0</td>\n",
       "      <td>800.0</td>\n",
       "    </tr>\n",
       "    <tr>\n",
       "      <th>42.0</th>\n",
       "      <td>181.0</td>\n",
       "      <td>332.0</td>\n",
       "      <td>103.0</td>\n",
       "      <td>60.0</td>\n",
       "      <td>48.0</td>\n",
       "      <td>804.0</td>\n",
       "    </tr>\n",
       "    <tr>\n",
       "      <th>43.0</th>\n",
       "      <td>180.0</td>\n",
       "      <td>333.0</td>\n",
       "      <td>100.0</td>\n",
       "      <td>60.0</td>\n",
       "      <td>41.0</td>\n",
       "      <td>857.0</td>\n",
       "    </tr>\n",
       "    <tr>\n",
       "      <th>44.0</th>\n",
       "      <td>142.0</td>\n",
       "      <td>325.0</td>\n",
       "      <td>111.0</td>\n",
       "      <td>53.0</td>\n",
       "      <td>36.0</td>\n",
       "      <td>778.0</td>\n",
       "    </tr>\n",
       "    <tr>\n",
       "      <th>...</th>\n",
       "      <td>...</td>\n",
       "      <td>...</td>\n",
       "      <td>...</td>\n",
       "      <td>...</td>\n",
       "      <td>...</td>\n",
       "      <td>...</td>\n",
       "    </tr>\n",
       "    <tr>\n",
       "      <th>63.0</th>\n",
       "      <td>22.0</td>\n",
       "      <td>80.0</td>\n",
       "      <td>36.0</td>\n",
       "      <td>9.0</td>\n",
       "      <td>9.0</td>\n",
       "      <td>193.0</td>\n",
       "    </tr>\n",
       "    <tr>\n",
       "      <th>64.0</th>\n",
       "      <td>13.0</td>\n",
       "      <td>65.0</td>\n",
       "      <td>23.0</td>\n",
       "      <td>2.0</td>\n",
       "      <td>6.0</td>\n",
       "      <td>189.0</td>\n",
       "    </tr>\n",
       "    <tr>\n",
       "      <th>65.0</th>\n",
       "      <td>14.0</td>\n",
       "      <td>72.0</td>\n",
       "      <td>23.0</td>\n",
       "      <td>3.0</td>\n",
       "      <td>6.0</td>\n",
       "      <td>140.0</td>\n",
       "    </tr>\n",
       "    <tr>\n",
       "      <th>66.0</th>\n",
       "      <td>23.0</td>\n",
       "      <td>63.0</td>\n",
       "      <td>19.0</td>\n",
       "      <td>4.0</td>\n",
       "      <td>2.0</td>\n",
       "      <td>116.0</td>\n",
       "    </tr>\n",
       "    <tr>\n",
       "      <th>67.0</th>\n",
       "      <td>13.0</td>\n",
       "      <td>37.0</td>\n",
       "      <td>13.0</td>\n",
       "      <td>NaN</td>\n",
       "      <td>4.0</td>\n",
       "      <td>107.0</td>\n",
       "    </tr>\n",
       "    <tr>\n",
       "      <th>68.0</th>\n",
       "      <td>6.0</td>\n",
       "      <td>38.0</td>\n",
       "      <td>13.0</td>\n",
       "      <td>1.0</td>\n",
       "      <td>1.0</td>\n",
       "      <td>89.0</td>\n",
       "    </tr>\n",
       "    <tr>\n",
       "      <th>69.0</th>\n",
       "      <td>7.0</td>\n",
       "      <td>23.0</td>\n",
       "      <td>3.0</td>\n",
       "      <td>3.0</td>\n",
       "      <td>1.0</td>\n",
       "      <td>83.0</td>\n",
       "    </tr>\n",
       "    <tr>\n",
       "      <th>70.0</th>\n",
       "      <td>8.0</td>\n",
       "      <td>29.0</td>\n",
       "      <td>7.0</td>\n",
       "      <td>1.0</td>\n",
       "      <td>4.0</td>\n",
       "      <td>66.0</td>\n",
       "    </tr>\n",
       "    <tr>\n",
       "      <th>71.0</th>\n",
       "      <td>1.0</td>\n",
       "      <td>19.0</td>\n",
       "      <td>7.0</td>\n",
       "      <td>NaN</td>\n",
       "      <td>5.0</td>\n",
       "      <td>62.0</td>\n",
       "    </tr>\n",
       "    <tr>\n",
       "      <th>72.0</th>\n",
       "      <td>6.0</td>\n",
       "      <td>20.0</td>\n",
       "      <td>7.0</td>\n",
       "      <td>3.0</td>\n",
       "      <td>2.0</td>\n",
       "      <td>38.0</td>\n",
       "    </tr>\n",
       "    <tr>\n",
       "      <th>73.0</th>\n",
       "      <td>4.0</td>\n",
       "      <td>14.0</td>\n",
       "      <td>3.0</td>\n",
       "      <td>2.0</td>\n",
       "      <td>1.0</td>\n",
       "      <td>42.0</td>\n",
       "    </tr>\n",
       "    <tr>\n",
       "      <th>74.0</th>\n",
       "      <td>2.0</td>\n",
       "      <td>15.0</td>\n",
       "      <td>4.0</td>\n",
       "      <td>1.0</td>\n",
       "      <td>2.0</td>\n",
       "      <td>27.0</td>\n",
       "    </tr>\n",
       "    <tr>\n",
       "      <th>75.0</th>\n",
       "      <td>5.0</td>\n",
       "      <td>12.0</td>\n",
       "      <td>2.0</td>\n",
       "      <td>NaN</td>\n",
       "      <td>NaN</td>\n",
       "      <td>25.0</td>\n",
       "    </tr>\n",
       "    <tr>\n",
       "      <th>76.0</th>\n",
       "      <td>4.0</td>\n",
       "      <td>18.0</td>\n",
       "      <td>4.0</td>\n",
       "      <td>NaN</td>\n",
       "      <td>1.0</td>\n",
       "      <td>15.0</td>\n",
       "    </tr>\n",
       "    <tr>\n",
       "      <th>77.0</th>\n",
       "      <td>2.0</td>\n",
       "      <td>6.0</td>\n",
       "      <td>2.0</td>\n",
       "      <td>NaN</td>\n",
       "      <td>1.0</td>\n",
       "      <td>23.0</td>\n",
       "    </tr>\n",
       "    <tr>\n",
       "      <th>78.0</th>\n",
       "      <td>2.0</td>\n",
       "      <td>8.0</td>\n",
       "      <td>2.0</td>\n",
       "      <td>NaN</td>\n",
       "      <td>NaN</td>\n",
       "      <td>10.0</td>\n",
       "    </tr>\n",
       "    <tr>\n",
       "      <th>79.0</th>\n",
       "      <td>1.0</td>\n",
       "      <td>5.0</td>\n",
       "      <td>NaN</td>\n",
       "      <td>NaN</td>\n",
       "      <td>NaN</td>\n",
       "      <td>18.0</td>\n",
       "    </tr>\n",
       "    <tr>\n",
       "      <th>80.0</th>\n",
       "      <td>2.0</td>\n",
       "      <td>5.0</td>\n",
       "      <td>NaN</td>\n",
       "      <td>NaN</td>\n",
       "      <td>NaN</td>\n",
       "      <td>11.0</td>\n",
       "    </tr>\n",
       "    <tr>\n",
       "      <th>81.0</th>\n",
       "      <td>1.0</td>\n",
       "      <td>4.0</td>\n",
       "      <td>NaN</td>\n",
       "      <td>NaN</td>\n",
       "      <td>NaN</td>\n",
       "      <td>8.0</td>\n",
       "    </tr>\n",
       "    <tr>\n",
       "      <th>82.0</th>\n",
       "      <td>NaN</td>\n",
       "      <td>1.0</td>\n",
       "      <td>1.0</td>\n",
       "      <td>NaN</td>\n",
       "      <td>NaN</td>\n",
       "      <td>10.0</td>\n",
       "    </tr>\n",
       "    <tr>\n",
       "      <th>83.0</th>\n",
       "      <td>1.0</td>\n",
       "      <td>1.0</td>\n",
       "      <td>1.0</td>\n",
       "      <td>NaN</td>\n",
       "      <td>NaN</td>\n",
       "      <td>4.0</td>\n",
       "    </tr>\n",
       "    <tr>\n",
       "      <th>84.0</th>\n",
       "      <td>NaN</td>\n",
       "      <td>3.0</td>\n",
       "      <td>NaN</td>\n",
       "      <td>NaN</td>\n",
       "      <td>NaN</td>\n",
       "      <td>6.0</td>\n",
       "    </tr>\n",
       "    <tr>\n",
       "      <th>85.0</th>\n",
       "      <td>1.0</td>\n",
       "      <td>3.0</td>\n",
       "      <td>NaN</td>\n",
       "      <td>NaN</td>\n",
       "      <td>NaN</td>\n",
       "      <td>2.0</td>\n",
       "    </tr>\n",
       "    <tr>\n",
       "      <th>86.0</th>\n",
       "      <td>NaN</td>\n",
       "      <td>2.0</td>\n",
       "      <td>1.0</td>\n",
       "      <td>NaN</td>\n",
       "      <td>NaN</td>\n",
       "      <td>4.0</td>\n",
       "    </tr>\n",
       "    <tr>\n",
       "      <th>87.0</th>\n",
       "      <td>NaN</td>\n",
       "      <td>2.0</td>\n",
       "      <td>2.0</td>\n",
       "      <td>NaN</td>\n",
       "      <td>NaN</td>\n",
       "      <td>2.0</td>\n",
       "    </tr>\n",
       "    <tr>\n",
       "      <th>88.0</th>\n",
       "      <td>NaN</td>\n",
       "      <td>NaN</td>\n",
       "      <td>NaN</td>\n",
       "      <td>NaN</td>\n",
       "      <td>NaN</td>\n",
       "      <td>2.0</td>\n",
       "    </tr>\n",
       "    <tr>\n",
       "      <th>89.0</th>\n",
       "      <td>1.0</td>\n",
       "      <td>NaN</td>\n",
       "      <td>NaN</td>\n",
       "      <td>NaN</td>\n",
       "      <td>NaN</td>\n",
       "      <td>NaN</td>\n",
       "    </tr>\n",
       "    <tr>\n",
       "      <th>90.0</th>\n",
       "      <td>NaN</td>\n",
       "      <td>NaN</td>\n",
       "      <td>NaN</td>\n",
       "      <td>NaN</td>\n",
       "      <td>NaN</td>\n",
       "      <td>1.0</td>\n",
       "    </tr>\n",
       "    <tr>\n",
       "      <th>94.0</th>\n",
       "      <td>NaN</td>\n",
       "      <td>1.0</td>\n",
       "      <td>NaN</td>\n",
       "      <td>NaN</td>\n",
       "      <td>NaN</td>\n",
       "      <td>NaN</td>\n",
       "    </tr>\n",
       "    <tr>\n",
       "      <th>99.0</th>\n",
       "      <td>NaN</td>\n",
       "      <td>1.0</td>\n",
       "      <td>NaN</td>\n",
       "      <td>NaN</td>\n",
       "      <td>NaN</td>\n",
       "      <td>NaN</td>\n",
       "    </tr>\n",
       "  </tbody>\n",
       "</table>\n",
       "<p>78 rows × 6 columns</p>\n",
       "</div>"
      ],
      "text/plain": [
       "violation   Equipment  Moving violation  Other  Registration/plates  \\\n",
       "driver_age                                                            \n",
       "15.0              NaN               4.0    NaN                  NaN   \n",
       "16.0              5.0               7.0    2.0                  5.0   \n",
       "17.0             56.0              77.0   10.0                 10.0   \n",
       "18.0            200.0             231.0   34.0                 48.0   \n",
       "19.0            457.0             447.0   78.0                 93.0   \n",
       "20.0            540.0             554.0   94.0                147.0   \n",
       "21.0            623.0             634.0   97.0                144.0   \n",
       "22.0            601.0             630.0  117.0                182.0   \n",
       "23.0            664.0             666.0   90.0                167.0   \n",
       "24.0            572.0             597.0  112.0                164.0   \n",
       "25.0            537.0             583.0  123.0                161.0   \n",
       "26.0            529.0             534.0  123.0                165.0   \n",
       "27.0            446.0             538.0  113.0                150.0   \n",
       "28.0            364.0             477.0   92.0                128.0   \n",
       "29.0            353.0             471.0   88.0                111.0   \n",
       "30.0            325.0             461.0   99.0                 96.0   \n",
       "31.0            329.0             384.0   82.0                 86.0   \n",
       "32.0            306.0             412.0  100.0                113.0   \n",
       "33.0            280.0             379.0   87.0                 75.0   \n",
       "34.0            239.0             371.0  101.0                 87.0   \n",
       "35.0            256.0             339.0  107.0                 94.0   \n",
       "36.0            191.0             324.0   98.0                 76.0   \n",
       "37.0            202.0             310.0   85.0                 86.0   \n",
       "38.0            194.0             327.0   83.0                 69.0   \n",
       "39.0            165.0             353.0  100.0                 70.0   \n",
       "40.0            181.0             323.0  112.0                 76.0   \n",
       "41.0            169.0             328.0   97.0                 59.0   \n",
       "42.0            181.0             332.0  103.0                 60.0   \n",
       "43.0            180.0             333.0  100.0                 60.0   \n",
       "44.0            142.0             325.0  111.0                 53.0   \n",
       "...               ...               ...    ...                  ...   \n",
       "63.0             22.0              80.0   36.0                  9.0   \n",
       "64.0             13.0              65.0   23.0                  2.0   \n",
       "65.0             14.0              72.0   23.0                  3.0   \n",
       "66.0             23.0              63.0   19.0                  4.0   \n",
       "67.0             13.0              37.0   13.0                  NaN   \n",
       "68.0              6.0              38.0   13.0                  1.0   \n",
       "69.0              7.0              23.0    3.0                  3.0   \n",
       "70.0              8.0              29.0    7.0                  1.0   \n",
       "71.0              1.0              19.0    7.0                  NaN   \n",
       "72.0              6.0              20.0    7.0                  3.0   \n",
       "73.0              4.0              14.0    3.0                  2.0   \n",
       "74.0              2.0              15.0    4.0                  1.0   \n",
       "75.0              5.0              12.0    2.0                  NaN   \n",
       "76.0              4.0              18.0    4.0                  NaN   \n",
       "77.0              2.0               6.0    2.0                  NaN   \n",
       "78.0              2.0               8.0    2.0                  NaN   \n",
       "79.0              1.0               5.0    NaN                  NaN   \n",
       "80.0              2.0               5.0    NaN                  NaN   \n",
       "81.0              1.0               4.0    NaN                  NaN   \n",
       "82.0              NaN               1.0    1.0                  NaN   \n",
       "83.0              1.0               1.0    1.0                  NaN   \n",
       "84.0              NaN               3.0    NaN                  NaN   \n",
       "85.0              1.0               3.0    NaN                  NaN   \n",
       "86.0              NaN               2.0    1.0                  NaN   \n",
       "87.0              NaN               2.0    2.0                  NaN   \n",
       "88.0              NaN               NaN    NaN                  NaN   \n",
       "89.0              1.0               NaN    NaN                  NaN   \n",
       "90.0              NaN               NaN    NaN                  NaN   \n",
       "94.0              NaN               1.0    NaN                  NaN   \n",
       "99.0              NaN               1.0    NaN                  NaN   \n",
       "\n",
       "violation   Seat belt  Speeding  \n",
       "driver_age                       \n",
       "15.0              NaN       1.0  \n",
       "16.0              NaN      26.0  \n",
       "17.0              8.0     424.0  \n",
       "18.0             39.0    1181.0  \n",
       "19.0             79.0    2074.0  \n",
       "20.0            105.0    2354.0  \n",
       "21.0            152.0    2412.0  \n",
       "22.0            142.0    2453.0  \n",
       "23.0            157.0    2242.0  \n",
       "24.0            169.0    2168.0  \n",
       "25.0            167.0    1966.0  \n",
       "26.0            161.0    1823.0  \n",
       "27.0            151.0    1650.0  \n",
       "28.0            132.0    1587.0  \n",
       "29.0             98.0    1420.0  \n",
       "30.0            109.0    1346.0  \n",
       "31.0             94.0    1225.0  \n",
       "32.0            102.0    1153.0  \n",
       "33.0             74.0    1061.0  \n",
       "34.0             72.0     956.0  \n",
       "35.0             65.0    1007.0  \n",
       "36.0             64.0     956.0  \n",
       "37.0             48.0     899.0  \n",
       "38.0             42.0     886.0  \n",
       "39.0             40.0     830.0  \n",
       "40.0             38.0     852.0  \n",
       "41.0             43.0     800.0  \n",
       "42.0             48.0     804.0  \n",
       "43.0             41.0     857.0  \n",
       "44.0             36.0     778.0  \n",
       "...               ...       ...  \n",
       "63.0              9.0     193.0  \n",
       "64.0              6.0     189.0  \n",
       "65.0              6.0     140.0  \n",
       "66.0              2.0     116.0  \n",
       "67.0              4.0     107.0  \n",
       "68.0              1.0      89.0  \n",
       "69.0              1.0      83.0  \n",
       "70.0              4.0      66.0  \n",
       "71.0              5.0      62.0  \n",
       "72.0              2.0      38.0  \n",
       "73.0              1.0      42.0  \n",
       "74.0              2.0      27.0  \n",
       "75.0              NaN      25.0  \n",
       "76.0              1.0      15.0  \n",
       "77.0              1.0      23.0  \n",
       "78.0              NaN      10.0  \n",
       "79.0              NaN      18.0  \n",
       "80.0              NaN      11.0  \n",
       "81.0              NaN       8.0  \n",
       "82.0              NaN      10.0  \n",
       "83.0              NaN       4.0  \n",
       "84.0              NaN       6.0  \n",
       "85.0              NaN       2.0  \n",
       "86.0              NaN       4.0  \n",
       "87.0              NaN       2.0  \n",
       "88.0              NaN       2.0  \n",
       "89.0              NaN       NaN  \n",
       "90.0              NaN       1.0  \n",
       "94.0              NaN       NaN  \n",
       "99.0              NaN       NaN  \n",
       "\n",
       "[78 rows x 6 columns]"
      ]
     },
     "execution_count": 35,
     "metadata": {},
     "output_type": "execute_result"
    }
   ],
   "source": [
    "# Figuring out the count of each violation for different age groups\n",
    "ri.groupby(['driver_age']).violation.value_counts().unstack()"
   ]
  },
  {
   "cell_type": "code",
   "execution_count": 36,
   "metadata": {},
   "outputs": [
    {
     "data": {
      "text/plain": [
       "<matplotlib.axes._subplots.AxesSubplot at 0x7fd0ec7e1750>"
      ]
     },
     "execution_count": 36,
     "metadata": {},
     "output_type": "execute_result"
    },
    {
     "data": {
      "image/png": "[encoded data removed]",
      "text/plain": [
       "<Figure size 432x288 with 1 Axes>"
      ]
     },
     "metadata": {},
     "output_type": "display_data"
    }
   ],
   "source": [
    "# plotting the violation frequency in different age groups\n",
    "\n",
    "ri.groupby(['driver_age']).violation.value_counts().unstack().plot()"
   ]
  },
  {
   "cell_type": "markdown",
   "metadata": {},
   "source": [
    "** Observation : **\n",
    "1. Speeding violation is more common than other violations in all ages.\n",
    "2. The count of speeding violations is highest in younger ages , 20-30."
   ]
  },
  {
   "cell_type": "markdown",
   "metadata": {},
   "source": [
    "# Q 3. Frequency of search conduction in various races"
   ]
  },
  {
   "cell_type": "code",
   "execution_count": 37,
   "metadata": {
    "scrolled": true
   },
   "outputs": [
    {
     "data": {
      "text/plain": [
       "<matplotlib.axes._subplots.AxesSubplot at 0x7fd0ec6c9410>"
      ]
     },
     "execution_count": 37,
     "metadata": {},
     "output_type": "execute_result"
    },
    {
     "data": {
      "image/png": "[encoded data removed]",
      "text/plain": [
       "<Figure size 432x288 with 1 Axes>"
      ]
     },
     "metadata": {},
     "output_type": "display_data"
    }
   ],
   "source": [
    "# plotting the frequency of search conducted across different races\n",
    "\n",
    "ri.groupby(['driver_race']).search_conducted.value_counts(normalize=True).unstack().loc[:,True].plot(kind='bar')"
   ]
  },
  {
   "cell_type": "markdown",
   "metadata": {},
   "source": [
    "\n",
    "#### From the above bar graph, we can conclude that Black and Hispanic people have most search conducted than other races."
   ]
  },
  {
   "cell_type": "markdown",
   "metadata": {},
   "source": [
    "# Q 4. Rate of violations during night"
   ]
  },
  {
   "cell_type": "code",
   "execution_count": 38,
   "metadata": {
    "scrolled": true
   },
   "outputs": [
    {
     "data": {
      "text/plain": [
       "stop_date              object\n",
       "stop_time              object\n",
       "county_name           float64\n",
       "driver_gender          object\n",
       "driver_age_raw        float64\n",
       "driver_age            float64\n",
       "driver_race            object\n",
       "violation_raw          object\n",
       "violation              object\n",
       "search_conducted         bool\n",
       "search_type            object\n",
       "stop_outcome           object\n",
       "is_arrested            object\n",
       "stop_duration          object\n",
       "drugs_related_stop       bool\n",
       "combined               object\n",
       "dtype: object"
      ]
     },
     "execution_count": 38,
     "metadata": {},
     "output_type": "execute_result"
    }
   ],
   "source": [
    "## combined the date and time columns for further operations\n",
    "\n",
    "ri['combined'] = ri['stop_date'].map(str) + ' ' + ri['stop_time']\n",
    "ri.dtypes"
   ]
  },
  {
   "cell_type": "code",
   "execution_count": 15,
   "metadata": {},
   "outputs": [],
   "source": [
    "## Conversion of new column to date-time format\n",
    "ri.combined = pd.to_datetime(ri.combined)"
   ]
  },
  {
   "cell_type": "code",
   "execution_count": null,
   "metadata": {},
   "outputs": [],
   "source": []
  },
  {
   "cell_type": "code",
   "execution_count": 16,
   "metadata": {
    "scrolled": false
   },
   "outputs": [
    {
     "data": {
      "text/plain": [
       "<matplotlib.axes._subplots.AxesSubplot at 0x7fd0ec77cd50>"
      ]
     },
     "execution_count": 16,
     "metadata": {},
     "output_type": "execute_result"
    },
    {
     "data": {
      "image/png": "[encoded data removed]",
      "text/plain": [
       "<Figure size 432x288 with 1 Axes>"
      ]
     },
     "metadata": {},
     "output_type": "display_data"
    }
   ],
   "source": [
    "ri[(ri.combined.dt.time.map(str) > '17:15:00') | (ri.combined.dt.time.map(str) < '05:15:00') ].groupby(['violation']).driver_gender.value_counts(normalize=True).unstack().plot(kind = 'bar')"
   ]
  },
  {
   "cell_type": "code",
   "execution_count": 17,
   "metadata": {},
   "outputs": [
    {
     "data": {
      "text/plain": [
       "<matplotlib.axes._subplots.AxesSubplot at 0x7fd0f2abe710>"
      ]
     },
     "execution_count": 17,
     "metadata": {},
     "output_type": "execute_result"
    },
    {
     "data": {
      "image/png": "[encoded data removed]",
      "text/plain": [
       "<Figure size 432x288 with 1 Axes>"
      ]
     },
     "metadata": {},
     "output_type": "display_data"
    }
   ],
   "source": [
    "ri[(ri.combined.dt.time.map(str) > '17:15:00') | (ri.combined.dt.time.map(str) < '05:15:00') ].groupby(['driver_gender']).violation.value_counts(normalize=True).unstack().plot(kind = 'bar')"
   ]
  },
  {
   "cell_type": "markdown",
   "metadata": {},
   "source": [
    "##### From the above data and bar graph, there are not much more differences between male and female driver having same violations at night."
   ]
  },
  {
   "cell_type": "markdown",
   "metadata": {},
   "source": [
    "# Q 5.  Searching those arrested in various search types"
   ]
  },
  {
   "cell_type": "code",
   "execution_count": 18,
   "metadata": {},
   "outputs": [
    {
     "data": {
      "text/plain": [
       "search_type\n",
       "Incident to Arrest                                          575.0\n",
       "Incident to Arrest,Inventory                                 86.0\n",
       "Incident to Arrest,Inventory,Probable Cause                  22.0\n",
       "Incident to Arrest,Inventory,Protective Frisk                 8.0\n",
       "Incident to Arrest,Inventory,Reasonable Suspicion             3.0\n",
       "Incident to Arrest,Probable Cause                            50.0\n",
       "Incident to Arrest,Probable Cause,Protective Frisk            5.0\n",
       "Incident to Arrest,Probable Cause,Reasonable Suspicion        2.0\n",
       "Incident to Arrest,Protective Frisk                          18.0\n",
       "Incident to Arrest,Protective Frisk,Reasonable Suspicion      1.0\n",
       "Incident to Arrest,Reasonable Suspicion                       5.0\n",
       "Inventory                                                    45.0\n",
       "Inventory,Probable Cause                                      9.0\n",
       "Inventory,Probable Cause,Protective Frisk                     1.0\n",
       "Inventory,Probable Cause,Reasonable Suspicion                 NaN\n",
       "Inventory,Protective Frisk                                    2.0\n",
       "Inventory,Reasonable Suspicion                                NaN\n",
       "Probable Cause                                               90.0\n",
       "Probable Cause,Protective Frisk                               3.0\n",
       "Probable Cause,Protective Frisk,Reasonable Suspicion          NaN\n",
       "Probable Cause,Reasonable Suspicion                           8.0\n",
       "Protective Frisk                                             13.0\n",
       "Protective Frisk,Reasonable Suspicion                         1.0\n",
       "Reasonable Suspicion                                          4.0\n",
       "Name: Arrest Driver, dtype: float64"
      ]
     },
     "execution_count": 18,
     "metadata": {},
     "output_type": "execute_result"
    }
   ],
   "source": [
    "ri.groupby(['search_type']).stop_outcome.value_counts().unstack()['Arrest Driver']"
   ]
  },
  {
   "cell_type": "code",
   "execution_count": 19,
   "metadata": {
    "scrolled": true
   },
   "outputs": [
    {
     "data": {
      "text/plain": [
       "<matplotlib.axes._subplots.AxesSubplot at 0x7fd0ecbb4c50>"
      ]
     },
     "execution_count": 19,
     "metadata": {},
     "output_type": "execute_result"
    },
    {
     "data": {
      "image/png": "[encoded data removed]",
      "text/plain": [
       "<Figure size 432x288 with 1 Axes>"
      ]
     },
     "metadata": {},
     "output_type": "display_data"
    }
   ],
   "source": [
    "ri.groupby(['search_type']).stop_outcome.value_counts().unstack()['Arrest Driver'].plot(kind='bar')"
   ]
  },
  {
   "cell_type": "markdown",
   "metadata": {},
   "source": [
    "# Q 6. Count those caught for frisk"
   ]
  },
  {
   "cell_type": "code",
   "execution_count": 20,
   "metadata": {},
   "outputs": [],
   "source": [
    "ri['frisk'] = ri.search_type.str.contains('Protective Frisk')"
   ]
  },
  {
   "cell_type": "code",
   "execution_count": 21,
   "metadata": {},
   "outputs": [
    {
     "data": {
      "text/plain": [
       "NaN      88545\n",
       "False     2922\n",
       "True       274\n",
       "Name: frisk, dtype: int64"
      ]
     },
     "execution_count": 21,
     "metadata": {},
     "output_type": "execute_result"
    }
   ],
   "source": [
    "ri.frisk.value_counts(dropna = False)"
   ]
  },
  {
   "cell_type": "code",
   "execution_count": 22,
   "metadata": {},
   "outputs": [
    {
     "data": {
      "text/plain": [
       "M    245\n",
       "F     29\n",
       "Name: driver_gender, dtype: int64"
      ]
     },
     "execution_count": 22,
     "metadata": {},
     "output_type": "execute_result"
    }
   ],
   "source": [
    "ri[ri.search_type.str.contains('Protective Frisk') == True].driver_gender.value_counts()"
   ]
  },
  {
   "cell_type": "code",
   "execution_count": 23,
   "metadata": {
    "scrolled": true
   },
   "outputs": [
    {
     "data": {
      "text/plain": [
       "<matplotlib.axes._subplots.AxesSubplot at 0x7fd0f299bbd0>"
      ]
     },
     "execution_count": 23,
     "metadata": {},
     "output_type": "execute_result"
    },
    {
     "data": {
      "image/png": "[encoded data removed]",
      "text/plain": [
       "<Figure size 432x288 with 1 Axes>"
      ]
     },
     "metadata": {},
     "output_type": "display_data"
    }
   ],
   "source": [
    "ri[ri.search_type.str.contains('Protective Frisk') == True].driver_gender.value_counts().plot(kind = 'bar')"
   ]
  },
  {
   "cell_type": "markdown",
   "metadata": {},
   "source": [
    "**Concluding that Male Drivers are having more 'Protective Frisk' as search type than Female Driver. **"
   ]
  },
  {
   "cell_type": "markdown",
   "metadata": {},
   "source": [
    "# Q 7. Analysis on drug_related_stops"
   ]
  },
  {
   "cell_type": "code",
   "execution_count": 24,
   "metadata": {},
   "outputs": [
    {
     "data": {
      "text/plain": [
       "False    90926\n",
       "True       815\n",
       "Name: drugs_related_stop, dtype: int64"
      ]
     },
     "execution_count": 24,
     "metadata": {},
     "output_type": "execute_result"
    }
   ],
   "source": [
    "ri.drugs_related_stop.value_counts()"
   ]
  },
  {
   "cell_type": "code",
   "execution_count": 25,
   "metadata": {},
   "outputs": [
    {
     "data": {
      "text/plain": [
       "2005-10-01 00:00:00    2\n",
       "2014-08-15 11:05:00    2\n",
       "2015-10-30 08:38:00    2\n",
       "2006-02-21 01:40:00    2\n",
       "2011-05-07 15:55:00    1\n",
       "2014-05-21 13:25:00    1\n",
       "2014-03-27 13:52:00    1\n",
       "2013-10-12 15:11:00    1\n",
       "2015-02-28 23:35:00    1\n",
       "2007-10-21 15:37:00    1\n",
       "2008-11-18 01:48:00    1\n",
       "2012-03-12 13:20:00    1\n",
       "2011-07-15 11:27:00    1\n",
       "2005-10-24 14:10:00    1\n",
       "2012-06-10 18:08:00    1\n",
       "2012-04-15 11:13:00    1\n",
       "2015-05-14 09:43:00    1\n",
       "2007-09-15 15:40:00    1\n",
       "2010-04-21 02:00:00    1\n",
       "2013-05-14 03:24:00    1\n",
       "2012-05-24 23:40:00    1\n",
       "2015-07-12 22:58:00    1\n",
       "2015-04-18 10:32:00    1\n",
       "2011-07-28 07:15:00    1\n",
       "2015-07-16 10:01:00    1\n",
       "2008-09-14 20:31:00    1\n",
       "2014-01-12 10:59:00    1\n",
       "2015-07-05 10:15:00    1\n",
       "2014-02-24 00:26:00    1\n",
       "2015-09-14 02:04:00    1\n",
       "                      ..\n",
       "2013-02-06 02:02:00    1\n",
       "2014-09-23 00:35:00    1\n",
       "2008-11-01 00:51:00    1\n",
       "2012-01-25 00:07:00    1\n",
       "2010-06-22 22:32:00    1\n",
       "2011-06-05 10:27:00    1\n",
       "2012-01-11 18:01:00    1\n",
       "2012-02-04 13:38:00    1\n",
       "2006-10-13 03:20:00    1\n",
       "2011-10-03 23:31:00    1\n",
       "2009-02-10 00:55:00    1\n",
       "2007-10-30 22:21:00    1\n",
       "2011-08-23 15:30:00    1\n",
       "2008-07-12 01:24:00    1\n",
       "2011-05-01 00:16:00    1\n",
       "2015-02-25 10:49:00    1\n",
       "2015-02-23 01:46:00    1\n",
       "2010-07-07 22:32:00    1\n",
       "2013-10-20 10:37:00    1\n",
       "2012-08-25 23:32:00    1\n",
       "2013-07-13 21:26:00    1\n",
       "2006-12-11 13:05:00    1\n",
       "2009-11-01 12:42:00    1\n",
       "2012-05-27 23:35:00    1\n",
       "2007-12-09 10:18:00    1\n",
       "2014-10-03 00:12:00    1\n",
       "2009-01-11 22:02:00    1\n",
       "2008-10-10 20:48:00    1\n",
       "2013-03-29 09:37:00    1\n",
       "2009-05-30 20:20:00    1\n",
       "Name: combined, Length: 811, dtype: int64"
      ]
     },
     "execution_count": 25,
     "metadata": {},
     "output_type": "execute_result"
    }
   ],
   "source": [
    "ri[ri.drugs_related_stop == True].combined.value_counts()"
   ]
  }
 ],
 "metadata": {
  "kernelspec": {
   "display_name": "Python 3",
   "language": "python",
   "name": "python3"
  },
  "language_info": {
   "codemirror_mode": {
    "name": "ipython",
    "version": 2
   },
   "file_extension": ".py",
   "mimetype": "text/x-python",
   "name": "python",
   "nbconvert_exporter": "python",
   "pygments_lexer": "ipython2",
   "version": "2.7.15"
  }
 },
 "nbformat": 4,
 "nbformat_minor": 2
}
