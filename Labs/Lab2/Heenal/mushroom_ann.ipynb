{
 "cells": [
  {
   "cell_type": "code",
   "execution_count": 49,
   "metadata": {},
   "outputs": [],
   "source": [
    "import tensorflow as tf\n",
    "import numpy as np\n",
    "import pandas as pd\n",
    "from sklearn import model_selection\n",
    "from keras.callbacks import ModelCheckpoint\n",
    "import matplotlib.pyplot as plt"
   ]
  },
  {
   "cell_type": "code",
   "execution_count": 3,
   "metadata": {},
   "outputs": [],
   "source": [
    "mush = pd.read_csv('Repositories/ml_practices_2018/Labs/Lab1/Heenal/Data/mushroom_new.csv')"
   ]
  },
  {
   "cell_type": "code",
   "execution_count": 5,
   "metadata": {},
   "outputs": [
    {
     "data": {
      "text/plain": [
       "(8124, 23)"
      ]
     },
     "execution_count": 5,
     "metadata": {},
     "output_type": "execute_result"
    }
   ],
   "source": [
    "mush.shape"
   ]
  },
  {
   "cell_type": "code",
   "execution_count": 23,
   "metadata": {},
   "outputs": [],
   "source": [
    "x = mush.drop(['class'], axis=1).values\n",
    "y = mush['class'].values"
   ]
  },
  {
   "cell_type": "code",
   "execution_count": 25,
   "metadata": {},
   "outputs": [
    {
     "data": {
      "text/plain": [
       "numpy.ndarray"
      ]
     },
     "execution_count": 25,
     "metadata": {},
     "output_type": "execute_result"
    }
   ],
   "source": [
    "type(x)"
   ]
  },
  {
   "cell_type": "code",
   "execution_count": 38,
   "metadata": {},
   "outputs": [],
   "source": [
    "x_train, x_test, y_train, y_test = model_selection.train_test_split(x, y, test_size=0.33, random_state=42)"
   ]
  },
  {
   "cell_type": "code",
   "execution_count": 39,
   "metadata": {
    "collapsed": true
   },
   "outputs": [
    {
     "data": {
      "text/plain": [
       "array([[2, 0, 2, ..., 2, 5, 0],\n",
       "       [5, 0, 3, ..., 2, 4, 0],\n",
       "       [5, 0, 2, ..., 3, 5, 0],\n",
       "       ...,\n",
       "       [2, 3, 4, ..., 3, 5, 4],\n",
       "       [3, 2, 2, ..., 7, 4, 4],\n",
       "       [3, 0, 3, ..., 7, 2, 1]])"
      ]
     },
     "execution_count": 39,
     "metadata": {},
     "output_type": "execute_result"
    }
   ],
   "source": [
    "x_train"
   ]
  },
  {
   "cell_type": "code",
   "execution_count": 40,
   "metadata": {},
   "outputs": [],
   "source": [
    "# defining the layers of the model\n",
    "model1 = tf.keras.models.Sequential()\n",
    "model1.add(tf.keras.layers.Dense(8, activation=tf.nn.relu))\n",
    "model1.add(tf.keras.layers.Dense(6, activation=tf.nn.relu))\n",
    "model1.add(tf.keras.layers.Dense(5, activation=tf.nn.relu))\n",
    "model1.add(tf.keras.layers.Dense(3, activation=tf.nn.relu))\n",
    "model1.add(tf.keras.layers.Dense(1, activation=tf.nn.sigmoid))"
   ]
  },
  {
   "cell_type": "code",
   "execution_count": 41,
   "metadata": {},
   "outputs": [],
   "source": [
    "# compiling\n",
    "\n",
    "model1.compile(optimizer='adam',\n",
    "              loss='binary_crossentropy',\n",
    "              metrics=['accuracy'])"
   ]
  },
  {
   "cell_type": "code",
   "execution_count": 44,
   "metadata": {},
   "outputs": [],
   "source": [
    "ckpt_model = 'mushroom-weights.best.hdf5'\n",
    "checkpoint = ModelCheckpoint(ckpt_model, \n",
    "                            monitor='val_acc',\n",
    "                            verbose=1,\n",
    "                            save_best_only=True,\n",
    "                            mode='max')\n",
    "callbacks_list = [checkpoint]"
   ]
  },
  {
   "cell_type": "code",
   "execution_count": 52,
   "metadata": {
    "scrolled": true
   },
   "outputs": [
    {
     "name": "stdout",
     "output_type": "stream",
     "text": [
      "Starting training...\n",
      "\n",
      "Epoch 00001: val_acc did not improve from 0.95188\n",
      "\n",
      "Epoch 00002: val_acc improved from 0.95188 to 0.96195, saving model to mushroom-weights.best.hdf5\n",
      "\n",
      "Epoch 00003: val_acc improved from 0.96195 to 0.98172, saving model to mushroom-weights.best.hdf5\n",
      "\n",
      "Epoch 00004: val_acc improved from 0.98172 to 0.98769, saving model to mushroom-weights.best.hdf5\n",
      "\n",
      "Epoch 00005: val_acc improved from 0.98769 to 0.99105, saving model to mushroom-weights.best.hdf5\n",
      "\n",
      "Epoch 00006: val_acc improved from 0.99105 to 0.99478, saving model to mushroom-weights.best.hdf5\n",
      "\n",
      "Epoch 00007: val_acc improved from 0.99478 to 0.99590, saving model to mushroom-weights.best.hdf5\n",
      "\n",
      "Epoch 00008: val_acc improved from 0.99590 to 0.99627, saving model to mushroom-weights.best.hdf5\n",
      "\n",
      "Epoch 00009: val_acc improved from 0.99627 to 0.99739, saving model to mushroom-weights.best.hdf5\n",
      "\n",
      "Epoch 00010: val_acc improved from 0.99739 to 0.99776, saving model to mushroom-weights.best.hdf5\n",
      "\n",
      "Epoch 00011: val_acc did not improve from 0.99776\n",
      "\n",
      "Epoch 00012: val_acc improved from 0.99776 to 0.99814, saving model to mushroom-weights.best.hdf5\n",
      "\n",
      "Epoch 00013: val_acc did not improve from 0.99814\n",
      "\n",
      "Epoch 00014: val_acc did not improve from 0.99814\n",
      "\n",
      "Epoch 00015: val_acc improved from 0.99814 to 0.99851, saving model to mushroom-weights.best.hdf5\n",
      "\n",
      "Epoch 00016: val_acc did not improve from 0.99851\n",
      "\n",
      "Epoch 00017: val_acc did not improve from 0.99851\n",
      "\n",
      "Epoch 00018: val_acc did not improve from 0.99851\n",
      "\n",
      "Epoch 00019: val_acc did not improve from 0.99851\n",
      "\n",
      "Epoch 00020: val_acc did not improve from 0.99851\n",
      "\n",
      "Epoch 00021: val_acc did not improve from 0.99851\n",
      "\n",
      "Epoch 00022: val_acc did not improve from 0.99851\n",
      "\n",
      "Epoch 00023: val_acc did not improve from 0.99851\n",
      "\n",
      "Epoch 00024: val_acc did not improve from 0.99851\n",
      "\n",
      "Epoch 00025: val_acc did not improve from 0.99851\n",
      "\n",
      "Epoch 00026: val_acc did not improve from 0.99851\n",
      "\n",
      "Epoch 00027: val_acc did not improve from 0.99851\n",
      "\n",
      "Epoch 00028: val_acc did not improve from 0.99851\n",
      "\n",
      "Epoch 00029: val_acc did not improve from 0.99851\n",
      "\n",
      "Epoch 00030: val_acc did not improve from 0.99851\n",
      "\n",
      "Epoch 00031: val_acc did not improve from 0.99851\n",
      "\n",
      "Epoch 00032: val_acc did not improve from 0.99851\n",
      "\n",
      "Epoch 00033: val_acc did not improve from 0.99851\n",
      "\n",
      "Epoch 00034: val_acc did not improve from 0.99851\n",
      "\n",
      "Epoch 00035: val_acc did not improve from 0.99851\n",
      "\n",
      "Epoch 00036: val_acc did not improve from 0.99851\n",
      "\n",
      "Epoch 00037: val_acc did not improve from 0.99851\n",
      "\n",
      "Epoch 00038: val_acc did not improve from 0.99851\n",
      "\n",
      "Epoch 00039: val_acc did not improve from 0.99851\n",
      "\n",
      "Epoch 00040: val_acc did not improve from 0.99851\n",
      "\n",
      "Epoch 00041: val_acc did not improve from 0.99851\n",
      "\n",
      "Epoch 00042: val_acc did not improve from 0.99851\n",
      "\n",
      "Epoch 00043: val_acc did not improve from 0.99851\n",
      "\n",
      "Epoch 00044: val_acc did not improve from 0.99851\n",
      "\n",
      "Epoch 00045: val_acc did not improve from 0.99851\n",
      "\n",
      "Epoch 00046: val_acc did not improve from 0.99851\n",
      "\n",
      "Epoch 00047: val_acc did not improve from 0.99851\n",
      "\n",
      "Epoch 00048: val_acc did not improve from 0.99851\n",
      "\n",
      "Epoch 00049: val_acc did not improve from 0.99851\n",
      "\n",
      "Epoch 00050: val_acc did not improve from 0.99851\n",
      "\n",
      "Epoch 00051: val_acc did not improve from 0.99851\n",
      "\n",
      "Epoch 00052: val_acc did not improve from 0.99851\n",
      "\n",
      "Epoch 00053: val_acc did not improve from 0.99851\n",
      "\n",
      "Epoch 00054: val_acc did not improve from 0.99851\n",
      "\n",
      "Epoch 00055: val_acc did not improve from 0.99851\n",
      "\n",
      "Epoch 00056: val_acc did not improve from 0.99851\n",
      "\n",
      "Epoch 00057: val_acc did not improve from 0.99851\n",
      "\n",
      "Epoch 00058: val_acc did not improve from 0.99851\n",
      "\n",
      "Epoch 00059: val_acc did not improve from 0.99851\n",
      "\n",
      "Epoch 00060: val_acc did not improve from 0.99851\n",
      "\n",
      "Epoch 00061: val_acc did not improve from 0.99851\n",
      "\n",
      "Epoch 00062: val_acc did not improve from 0.99851\n",
      "\n",
      "Epoch 00063: val_acc did not improve from 0.99851\n",
      "\n",
      "Epoch 00064: val_acc did not improve from 0.99851\n",
      "\n",
      "Epoch 00065: val_acc did not improve from 0.99851\n",
      "\n",
      "Epoch 00066: val_acc did not improve from 0.99851\n",
      "\n",
      "Epoch 00067: val_acc did not improve from 0.99851\n",
      "\n",
      "Epoch 00068: val_acc did not improve from 0.99851\n",
      "\n",
      "Epoch 00069: val_acc did not improve from 0.99851\n",
      "\n",
      "Epoch 00070: val_acc did not improve from 0.99851\n",
      "\n",
      "Epoch 00071: val_acc did not improve from 0.99851\n",
      "\n",
      "Epoch 00072: val_acc did not improve from 0.99851\n",
      "\n",
      "Epoch 00073: val_acc did not improve from 0.99851\n",
      "\n",
      "Epoch 00074: val_acc did not improve from 0.99851\n",
      "\n",
      "Epoch 00075: val_acc did not improve from 0.99851\n",
      "\n",
      "Epoch 00076: val_acc did not improve from 0.99851\n",
      "\n",
      "Epoch 00077: val_acc did not improve from 0.99851\n",
      "\n",
      "Epoch 00078: val_acc did not improve from 0.99851\n",
      "\n",
      "Epoch 00079: val_acc did not improve from 0.99851\n",
      "\n",
      "Epoch 00080: val_acc did not improve from 0.99851\n",
      "\n",
      "Epoch 00081: val_acc did not improve from 0.99851\n",
      "\n",
      "Epoch 00082: val_acc did not improve from 0.99851\n",
      "\n",
      "Epoch 00083: val_acc did not improve from 0.99851\n",
      "\n",
      "Epoch 00084: val_acc did not improve from 0.99851\n",
      "\n",
      "Epoch 00085: val_acc did not improve from 0.99851\n",
      "\n",
      "Epoch 00086: val_acc did not improve from 0.99851\n",
      "\n",
      "Epoch 00087: val_acc did not improve from 0.99851\n",
      "\n",
      "Epoch 00088: val_acc did not improve from 0.99851\n",
      "\n",
      "Epoch 00089: val_acc did not improve from 0.99851\n",
      "\n",
      "Epoch 00090: val_acc did not improve from 0.99851\n",
      "\n",
      "Epoch 00091: val_acc did not improve from 0.99851\n",
      "\n",
      "Epoch 00092: val_acc did not improve from 0.99851\n",
      "\n",
      "Epoch 00093: val_acc did not improve from 0.99851\n",
      "\n",
      "Epoch 00094: val_acc did not improve from 0.99851\n",
      "\n",
      "Epoch 00095: val_acc did not improve from 0.99851\n",
      "\n",
      "Epoch 00096: val_acc did not improve from 0.99851\n",
      "\n",
      "Epoch 00097: val_acc did not improve from 0.99851\n",
      "\n",
      "Epoch 00098: val_acc did not improve from 0.99851\n",
      "\n",
      "Epoch 00099: val_acc did not improve from 0.99851\n",
      "\n",
      "Epoch 00100: val_acc did not improve from 0.99851\n"
     ]
    }
   ],
   "source": [
    "print('Starting training...')\n",
    "# train the model, store the results for plotting\n",
    "history = model1.fit(x_train,\n",
    "                    y_train,\n",
    "                    validation_data=(x_test, y_test),\n",
    "                    validation_split = 0.2,\n",
    "                    epochs=100,\n",
    "                    verbose=0)"
   ]
  },
  {
   "cell_type": "code",
   "execution_count": 53,
   "metadata": {},
   "outputs": [
    {
     "data": {
      "image/png": "[encoded data removed]",
      "text/plain": [
       "<Figure size 432x288 with 1 Axes>"
      ]
     },
     "metadata": {
      "needs_background": "light"
     },
     "output_type": "display_data"
    }
   ],
   "source": [
    "# Model accuracy\n",
    "plt.plot(history.history['acc'])\n",
    "plt.plot(history.history['val_acc'])\n",
    "plt.title('Model Accuracy')\n",
    "plt.ylabel('accuracy')\n",
    "plt.xlabel('epoch')\n",
    "plt.legend(['train', 'test'])\n",
    "plt.show()"
   ]
  },
  {
   "cell_type": "code",
   "execution_count": 51,
   "metadata": {},
   "outputs": [
    {
     "data": {
      "image/png": "[encoded data removed]",
      "text/plain": [
       "<Figure size 432x288 with 1 Axes>"
      ]
     },
     "metadata": {
      "needs_background": "light"
     },
     "output_type": "display_data"
    }
   ],
   "source": [
    "# Model Losss\n",
    "plt.plot(history.history['loss'])\n",
    "plt.plot(history.history['val_loss'])\n",
    "plt.title('Model Loss')\n",
    "plt.ylabel('loss')\n",
    "plt.xlabel('epoch')\n",
    "plt.legend(['train', 'test'])\n",
    "plt.show()"
   ]
  },
  {
   "cell_type": "code",
   "execution_count": 37,
   "metadata": {},
   "outputs": [
    {
     "name": "stdout",
     "output_type": "stream",
     "text": [
      "Epoch 1/10\n",
      "5443/5443 [==============================] - 0s 43us/step - loss: 0.0143 - acc: 0.9978\n",
      "Epoch 2/10\n",
      "5443/5443 [==============================] - 0s 36us/step - loss: 0.0143 - acc: 0.9978\n",
      "Epoch 3/10\n",
      "5443/5443 [==============================] - 0s 36us/step - loss: 0.0143 - acc: 0.9978\n",
      "Epoch 4/10\n",
      "5443/5443 [==============================] - 0s 37us/step - loss: 0.0143 - acc: 0.9978\n",
      "Epoch 5/10\n",
      "5443/5443 [==============================] - 0s 40us/step - loss: 0.0143 - acc: 0.9978\n",
      "Epoch 6/10\n",
      "5443/5443 [==============================] - 0s 39us/step - loss: 0.0143 - acc: 0.9978\n",
      "Epoch 7/10\n",
      "5443/5443 [==============================] - 0s 37us/step - loss: 0.0143 - acc: 0.9978\n",
      "Epoch 8/10\n",
      "5443/5443 [==============================] - 0s 42us/step - loss: 0.0143 - acc: 0.9978\n",
      "Epoch 9/10\n",
      "5443/5443 [==============================] - 0s 39us/step - loss: 0.0143 - acc: 0.9978\n",
      "Epoch 10/10\n",
      "5443/5443 [==============================] - 0s 40us/step - loss: 0.0143 - acc: 0.9978\n"
     ]
    },
    {
     "data": {
      "text/plain": [
       "<tensorflow.python.keras.callbacks.History at 0x7f48f426a5c0>"
      ]
     },
     "execution_count": 37,
     "metadata": {},
     "output_type": "execute_result"
    }
   ],
   "source": [
    "model1.fit(x_train,y_train,epochs=10)"
   ]
  },
  {
   "cell_type": "code",
   "execution_count": 35,
   "metadata": {},
   "outputs": [
    {
     "name": "stdout",
     "output_type": "stream",
     "text": [
      "2681/2681 [==============================] - 0s 50us/step\n",
      "0.2231195115389463 0.9395747854833236\n"
     ]
    }
   ],
   "source": [
    "val_loss, val_acc = model1.evaluate(x_test, y_test)\n",
    "print(val_loss, val_acc)"
   ]
  },
  {
   "cell_type": "code",
   "execution_count": null,
   "metadata": {},
   "outputs": [],
   "source": []
  }
 ],
 "metadata": {
  "kernelspec": {
   "display_name": "Python 3",
   "language": "python",
   "name": "python3"
  },
  "language_info": {
   "codemirror_mode": {
    "name": "ipython",
    "version": 3
   },
   "file_extension": ".py",
   "mimetype": "text/x-python",
   "name": "python",
   "nbconvert_exporter": "python",
   "pygments_lexer": "ipython3",
   "version": "3.6.8"
  }
 },
 "nbformat": 4,
 "nbformat_minor": 2
}
