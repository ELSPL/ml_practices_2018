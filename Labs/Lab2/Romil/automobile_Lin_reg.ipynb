{
 "cells": [
  {
   "cell_type": "markdown",
   "metadata": {},
   "source": [
    "# Automobile Dataset\n",
    "[EDA for This dataset](https://github.com/romilsiddhapura/ml_practices_2018/blob/master/Labs/Lab1/Romil/Notebooks/Automobile_EDA.ipynb)  \n",
    "[Data for the same](https://github.com/romilsiddhapura/ml_practices_2018/blob/master/Labs/Lab1/Romil/Data/automobile.csv)"
   ]
  },
  {
   "cell_type": "code",
   "execution_count": 154,
   "metadata": {},
   "outputs": [],
   "source": [
    "import numpy as np\n",
    "import pandas as pd\n",
    "import matplotlib.pyplot as plt\n",
    "from sklearn import datasets\n",
    "from sklearn.model_selection import train_test_split\n",
    "from sklearn.linear_model import LinearRegression\n",
    "from sklearn.preprocessing import LabelBinarizer\n",
    "from sklearn.preprocessing import LabelEncoder\n",
    "from sklearn import metrics\n",
    "import seaborn as sns"
   ]
  },
  {
   "cell_type": "code",
   "execution_count": 155,
   "metadata": {},
   "outputs": [
    {
     "name": "stdout",
     "output_type": "stream",
     "text": [
      "<class 'pandas.core.frame.DataFrame'>\n",
      "Int64Index: 205 entries, 0 to 204\n",
      "Data columns (total 26 columns):\n",
      "symboling            205 non-null int64\n",
      "norm_losses          205 non-null int64\n",
      "brand                205 non-null object\n",
      "fuel                 205 non-null object\n",
      "aspiration           205 non-null object\n",
      "doors                203 non-null object\n",
      "body_style           205 non-null object\n",
      "drive_wheels         205 non-null object\n",
      "engine-location      205 non-null object\n",
      "wheel-base           205 non-null float64\n",
      "length               205 non-null float64\n",
      "width                205 non-null float64\n",
      "height               205 non-null float64\n",
      "curb-weight          205 non-null int64\n",
      "engine-type          205 non-null object\n",
      "num-of-cylinders     205 non-null object\n",
      "engine-size          205 non-null int64\n",
      "fuel-system          205 non-null object\n",
      "bore                 205 non-null float64\n",
      "stroke               205 non-null float64\n",
      "compression-ratio    205 non-null float64\n",
      "horsepower           205 non-null int64\n",
      "peak-rpm             205 non-null float64\n",
      "city-mpg             205 non-null int64\n",
      "highway-mpg          205 non-null int64\n",
      "price                205 non-null int64\n",
      "dtypes: float64(8), int64(8), object(10)\n",
      "memory usage: 43.2+ KB\n"
     ]
    }
   ],
   "source": [
    "names=['symboling','norm_losses','brand','fuel','aspiration','doors','body_style','drive_wheels','engine-location','wheel-base','length','width','height','curb-weight','engine-type','num-of-cylinders','engine-size','fuel-system','bore','stroke','compression-ratio','horsepower','peak-rpm','city-mpg','highway-mpg','price']\n",
    "data = pd.read_csv('../../Lab1/Romil/Data/processed_data_Automobile.csv',header=None,names = names,)\n",
    "data.head()\n",
    "data.info()\n"
   ]
  },
  {
   "cell_type": "markdown",
   "metadata": {},
   "source": []
  },
  {
   "cell_type": "code",
   "execution_count": 156,
   "metadata": {},
   "outputs": [],
   "source": [
    "data_new = data.drop(['symboling','doors','norm_losses','height','compression-ratio','price'],axis= 1)"
   ]
  },
  {
   "cell_type": "markdown",
   "metadata": {},
   "source": [
    "** Converting all the categorical data into numeric through one hot encoding.**"
   ]
  },
  {
   "cell_type": "code",
   "execution_count": 157,
   "metadata": {},
   "outputs": [],
   "source": [
    "data_dummy = pd.get_dummies(data)"
   ]
  },
  {
   "cell_type": "code",
   "execution_count": 158,
   "metadata": {},
   "outputs": [
    {
     "data": {
      "text/plain": [
       "symboling                    int64\n",
       "norm_losses                  int64\n",
       "wheel-base                 float64\n",
       "length                     float64\n",
       "width                      float64\n",
       "height                     float64\n",
       "curb-weight                  int64\n",
       "engine-size                  int64\n",
       "bore                       float64\n",
       "stroke                     float64\n",
       "compression-ratio          float64\n",
       "horsepower                   int64\n",
       "peak-rpm                   float64\n",
       "city-mpg                     int64\n",
       "highway-mpg                  int64\n",
       "price                        int64\n",
       "brand_alfa-romero            uint8\n",
       "brand_audi                   uint8\n",
       "brand_bmw                    uint8\n",
       "brand_chevrolet              uint8\n",
       "brand_dodge                  uint8\n",
       "brand_honda                  uint8\n",
       "brand_isuzu                  uint8\n",
       "brand_jaguar                 uint8\n",
       "brand_mazda                  uint8\n",
       "brand_mercedes-benz          uint8\n",
       "brand_mercury                uint8\n",
       "brand_mitsubishi             uint8\n",
       "brand_nissan                 uint8\n",
       "brand_peugot                 uint8\n",
       "                            ...   \n",
       "body_style_hatchback         uint8\n",
       "body_style_sedan             uint8\n",
       "body_style_wagon             uint8\n",
       "drive_wheels_4wd             uint8\n",
       "drive_wheels_fwd             uint8\n",
       "drive_wheels_rwd             uint8\n",
       "engine-location_front        uint8\n",
       "engine-location_rear         uint8\n",
       "engine-type_dohc             uint8\n",
       "engine-type_dohcv            uint8\n",
       "engine-type_l                uint8\n",
       "engine-type_ohc              uint8\n",
       "engine-type_ohcf             uint8\n",
       "engine-type_ohcv             uint8\n",
       "engine-type_rotor            uint8\n",
       "num-of-cylinders_eight       uint8\n",
       "num-of-cylinders_five        uint8\n",
       "num-of-cylinders_four        uint8\n",
       "num-of-cylinders_six         uint8\n",
       "num-of-cylinders_three       uint8\n",
       "num-of-cylinders_twelve      uint8\n",
       "num-of-cylinders_two         uint8\n",
       "fuel-system_1bbl             uint8\n",
       "fuel-system_2bbl             uint8\n",
       "fuel-system_4bbl             uint8\n",
       "fuel-system_idi              uint8\n",
       "fuel-system_mfi              uint8\n",
       "fuel-system_mpfi             uint8\n",
       "fuel-system_spdi             uint8\n",
       "fuel-system_spfi             uint8\n",
       "Length: 76, dtype: object"
      ]
     },
     "execution_count": 158,
     "metadata": {},
     "output_type": "execute_result"
    }
   ],
   "source": [
    "data_dummy.dtypes"
   ]
  },
  {
   "cell_type": "code",
   "execution_count": 187,
   "metadata": {},
   "outputs": [],
   "source": [
    "X_train, X_test, y_train, y_test = train_test_split(data_dummy, y, test_size=0.33, random_state=42)"
   ]
  },
  {
   "cell_type": "code",
   "execution_count": 188,
   "metadata": {},
   "outputs": [
    {
     "data": {
      "text/plain": [
       "(137, 76)"
      ]
     },
     "execution_count": 188,
     "metadata": {},
     "output_type": "execute_result"
    }
   ],
   "source": [
    "X_train.shape"
   ]
  },
  {
   "cell_type": "code",
   "execution_count": 189,
   "metadata": {},
   "outputs": [
    {
     "data": {
      "text/plain": [
       "array([22018, 10345,  6938, 18150,  7603,  6095, 16695,  9538, 12945,\n",
       "       12764,  6669,  7957,  7609, 18620, 16845, 18150, 16500,  6189,\n",
       "       11048,  7609, 34028,  6989,  5118,  7295, 17075, 10595,  6377,\n",
       "       15510, 13845,  6529, 16925, 18950,  8058, 17710,  8558, 32528,\n",
       "       15985,  7126, 17450,  5399, 12440,  9495, 16630,  8013, 16430,\n",
       "       10245,  5572,  5348, 11199, 13495,  7995,  7975, 31600, 22470,\n",
       "       11245, 13207,  9298,  8921, 10295, 13200,  8921,  7957,  8778,\n",
       "       11595,  8499,  8845, 17669, 32250,  7299,  7898,  6785,  7775,\n",
       "       13950, 19699,  6695, 12170,  8195,  8358,  9980, 36000,  9959,\n",
       "        7129, 18920, 13860,  6649, 14869, 15750,  8495,  5499, 23875,\n",
       "       21105,  8845, 10898,  9895, 36880, 35056, 15690, 15040, 11549,\n",
       "       18420, 10795,  7395, 11900,  5195, 19045,  9989, 15645, 35550,\n",
       "        9279,  5572, 13645,  7738, 16515, 13207,  7895,  7198, 12290,\n",
       "       16500,  6795, 11694,  9295,  6338, 13499,  8949, 17950,  9279,\n",
       "       45400,  6692, 22625,  6575,  9995, 34184, 18399, 24565,  6849,\n",
       "       15998, 14399])"
      ]
     },
     "execution_count": 189,
     "metadata": {},
     "output_type": "execute_result"
    }
   ],
   "source": [
    "y_train"
   ]
  },
  {
   "cell_type": "markdown",
   "metadata": {},
   "source": [
    "### Linear regression on all features"
   ]
  },
  {
   "cell_type": "code",
   "execution_count": 190,
   "metadata": {},
   "outputs": [
    {
     "data": {
      "text/plain": [
       "LinearRegression(copy_X=True, fit_intercept=True, n_jobs=-1, normalize=False)"
      ]
     },
     "execution_count": 190,
     "metadata": {},
     "output_type": "execute_result"
    }
   ],
   "source": [
    "reg = LinearRegression(n_jobs=-1)\n",
    "reg.fit(X_train,y_train)"
   ]
  },
  {
   "cell_type": "code",
   "execution_count": 191,
   "metadata": {},
   "outputs": [
    {
     "data": {
      "text/plain": [
       "1.0"
      ]
     },
     "execution_count": 191,
     "metadata": {},
     "output_type": "execute_result"
    }
   ],
   "source": [
    "reg.score(X_test,y_test)"
   ]
  },
  {
   "cell_type": "code",
   "execution_count": 192,
   "metadata": {},
   "outputs": [],
   "source": [
    "y_pred = reg.predict(X_test)"
   ]
  },
  {
   "cell_type": "code",
   "execution_count": 193,
   "metadata": {},
   "outputs": [
    {
     "data": {
      "text/plain": [
       "3.036107313271393e-12"
      ]
     },
     "execution_count": 193,
     "metadata": {},
     "output_type": "execute_result"
    }
   ],
   "source": [
    "metrics.mean_absolute_error(y_test,y_pred)"
   ]
  },
  {
   "cell_type": "code",
   "execution_count": 195,
   "metadata": {},
   "outputs": [
    {
     "data": {
      "text/plain": [
       "1.8940003143309767e-23"
      ]
     },
     "execution_count": 195,
     "metadata": {},
     "output_type": "execute_result"
    }
   ],
   "source": [
    "metrics.mean_squared_error(y_test,y_pred)"
   ]
  },
  {
   "cell_type": "code",
   "execution_count": 169,
   "metadata": {},
   "outputs": [
    {
     "data": {
      "text/plain": [
       "<matplotlib.axes._subplots.AxesSubplot at 0x7f6fd5bc6b70>"
      ]
     },
     "execution_count": 169,
     "metadata": {},
     "output_type": "execute_result"
    },
    {
     "data": {
      "image/png": "[encoded data removed]",
      "text/plain": [
       "<Figure size 432x288 with 1 Axes>"
      ]
     },
     "metadata": {},
     "output_type": "display_data"
    }
   ],
   "source": [
    "sns.regplot(y,y_pred)"
   ]
  },
  {
   "cell_type": "markdown",
   "metadata": {},
   "source": [
    "### Linear regression on selected features"
   ]
  },
  {
   "cell_type": "code",
   "execution_count": 170,
   "metadata": {},
   "outputs": [],
   "source": [
    "df_dummy = pd.get_dummies(data_new)"
   ]
  },
  {
   "cell_type": "code",
   "execution_count": 171,
   "metadata": {},
   "outputs": [
    {
     "data": {
      "text/html": [
       "<div>\n",
       "<style scoped>\n",
       "    .dataframe tbody tr th:only-of-type {\n",
       "        vertical-align: middle;\n",
       "    }\n",
       "\n",
       "    .dataframe tbody tr th {\n",
       "        vertical-align: top;\n",
       "    }\n",
       "\n",
       "    .dataframe thead th {\n",
       "        text-align: right;\n",
       "    }\n",
       "</style>\n",
       "<table border=\"1\" class=\"dataframe\">\n",
       "  <thead>\n",
       "    <tr style=\"text-align: right;\">\n",
       "      <th></th>\n",
       "      <th>wheel-base</th>\n",
       "      <th>length</th>\n",
       "      <th>width</th>\n",
       "      <th>curb-weight</th>\n",
       "      <th>engine-size</th>\n",
       "      <th>bore</th>\n",
       "      <th>stroke</th>\n",
       "      <th>horsepower</th>\n",
       "      <th>peak-rpm</th>\n",
       "      <th>city-mpg</th>\n",
       "      <th>...</th>\n",
       "      <th>num-of-cylinders_twelve</th>\n",
       "      <th>num-of-cylinders_two</th>\n",
       "      <th>fuel-system_1bbl</th>\n",
       "      <th>fuel-system_2bbl</th>\n",
       "      <th>fuel-system_4bbl</th>\n",
       "      <th>fuel-system_idi</th>\n",
       "      <th>fuel-system_mfi</th>\n",
       "      <th>fuel-system_mpfi</th>\n",
       "      <th>fuel-system_spdi</th>\n",
       "      <th>fuel-system_spfi</th>\n",
       "    </tr>\n",
       "  </thead>\n",
       "  <tbody>\n",
       "    <tr>\n",
       "      <th>0</th>\n",
       "      <td>88.6</td>\n",
       "      <td>168.8</td>\n",
       "      <td>64.1</td>\n",
       "      <td>2548</td>\n",
       "      <td>130</td>\n",
       "      <td>3.47</td>\n",
       "      <td>2.68</td>\n",
       "      <td>111</td>\n",
       "      <td>5000.0</td>\n",
       "      <td>21</td>\n",
       "      <td>...</td>\n",
       "      <td>0</td>\n",
       "      <td>0</td>\n",
       "      <td>0</td>\n",
       "      <td>0</td>\n",
       "      <td>0</td>\n",
       "      <td>0</td>\n",
       "      <td>0</td>\n",
       "      <td>1</td>\n",
       "      <td>0</td>\n",
       "      <td>0</td>\n",
       "    </tr>\n",
       "    <tr>\n",
       "      <th>1</th>\n",
       "      <td>88.6</td>\n",
       "      <td>168.8</td>\n",
       "      <td>64.1</td>\n",
       "      <td>2548</td>\n",
       "      <td>130</td>\n",
       "      <td>3.47</td>\n",
       "      <td>2.68</td>\n",
       "      <td>111</td>\n",
       "      <td>5000.0</td>\n",
       "      <td>21</td>\n",
       "      <td>...</td>\n",
       "      <td>0</td>\n",
       "      <td>0</td>\n",
       "      <td>0</td>\n",
       "      <td>0</td>\n",
       "      <td>0</td>\n",
       "      <td>0</td>\n",
       "      <td>0</td>\n",
       "      <td>1</td>\n",
       "      <td>0</td>\n",
       "      <td>0</td>\n",
       "    </tr>\n",
       "    <tr>\n",
       "      <th>2</th>\n",
       "      <td>94.5</td>\n",
       "      <td>171.2</td>\n",
       "      <td>65.5</td>\n",
       "      <td>2823</td>\n",
       "      <td>152</td>\n",
       "      <td>2.68</td>\n",
       "      <td>3.47</td>\n",
       "      <td>154</td>\n",
       "      <td>5000.0</td>\n",
       "      <td>19</td>\n",
       "      <td>...</td>\n",
       "      <td>0</td>\n",
       "      <td>0</td>\n",
       "      <td>0</td>\n",
       "      <td>0</td>\n",
       "      <td>0</td>\n",
       "      <td>0</td>\n",
       "      <td>0</td>\n",
       "      <td>1</td>\n",
       "      <td>0</td>\n",
       "      <td>0</td>\n",
       "    </tr>\n",
       "    <tr>\n",
       "      <th>3</th>\n",
       "      <td>99.8</td>\n",
       "      <td>176.6</td>\n",
       "      <td>66.2</td>\n",
       "      <td>2337</td>\n",
       "      <td>109</td>\n",
       "      <td>3.19</td>\n",
       "      <td>3.40</td>\n",
       "      <td>102</td>\n",
       "      <td>5500.0</td>\n",
       "      <td>24</td>\n",
       "      <td>...</td>\n",
       "      <td>0</td>\n",
       "      <td>0</td>\n",
       "      <td>0</td>\n",
       "      <td>0</td>\n",
       "      <td>0</td>\n",
       "      <td>0</td>\n",
       "      <td>0</td>\n",
       "      <td>1</td>\n",
       "      <td>0</td>\n",
       "      <td>0</td>\n",
       "    </tr>\n",
       "    <tr>\n",
       "      <th>4</th>\n",
       "      <td>99.4</td>\n",
       "      <td>176.6</td>\n",
       "      <td>66.4</td>\n",
       "      <td>2824</td>\n",
       "      <td>136</td>\n",
       "      <td>3.19</td>\n",
       "      <td>3.40</td>\n",
       "      <td>115</td>\n",
       "      <td>5500.0</td>\n",
       "      <td>18</td>\n",
       "      <td>...</td>\n",
       "      <td>0</td>\n",
       "      <td>0</td>\n",
       "      <td>0</td>\n",
       "      <td>0</td>\n",
       "      <td>0</td>\n",
       "      <td>0</td>\n",
       "      <td>0</td>\n",
       "      <td>1</td>\n",
       "      <td>0</td>\n",
       "      <td>0</td>\n",
       "    </tr>\n",
       "  </tbody>\n",
       "</table>\n",
       "<p>5 rows × 69 columns</p>\n",
       "</div>"
      ],
      "text/plain": [
       "   wheel-base  length  width  curb-weight  engine-size  bore  stroke  \\\n",
       "0        88.6   168.8   64.1         2548          130  3.47    2.68   \n",
       "1        88.6   168.8   64.1         2548          130  3.47    2.68   \n",
       "2        94.5   171.2   65.5         2823          152  2.68    3.47   \n",
       "3        99.8   176.6   66.2         2337          109  3.19    3.40   \n",
       "4        99.4   176.6   66.4         2824          136  3.19    3.40   \n",
       "\n",
       "   horsepower  peak-rpm  city-mpg        ...         num-of-cylinders_twelve  \\\n",
       "0         111    5000.0        21        ...                               0   \n",
       "1         111    5000.0        21        ...                               0   \n",
       "2         154    5000.0        19        ...                               0   \n",
       "3         102    5500.0        24        ...                               0   \n",
       "4         115    5500.0        18        ...                               0   \n",
       "\n",
       "   num-of-cylinders_two  fuel-system_1bbl  fuel-system_2bbl  fuel-system_4bbl  \\\n",
       "0                     0                 0                 0                 0   \n",
       "1                     0                 0                 0                 0   \n",
       "2                     0                 0                 0                 0   \n",
       "3                     0                 0                 0                 0   \n",
       "4                     0                 0                 0                 0   \n",
       "\n",
       "   fuel-system_idi  fuel-system_mfi  fuel-system_mpfi  fuel-system_spdi  \\\n",
       "0                0                0                 1                 0   \n",
       "1                0                0                 1                 0   \n",
       "2                0                0                 1                 0   \n",
       "3                0                0                 1                 0   \n",
       "4                0                0                 1                 0   \n",
       "\n",
       "   fuel-system_spfi  \n",
       "0                 0  \n",
       "1                 0  \n",
       "2                 0  \n",
       "3                 0  \n",
       "4                 0  \n",
       "\n",
       "[5 rows x 69 columns]"
      ]
     },
     "execution_count": 171,
     "metadata": {},
     "output_type": "execute_result"
    }
   ],
   "source": [
    "df_dummy.head()\n"
   ]
  },
  {
   "cell_type": "code",
   "execution_count": 172,
   "metadata": {},
   "outputs": [
    {
     "data": {
      "text/plain": [
       "Index(['wheel-base', 'length', 'width', 'curb-weight', 'engine-size', 'bore',\n",
       "       'stroke', 'horsepower', 'peak-rpm', 'city-mpg', 'highway-mpg',\n",
       "       'brand_alfa-romero', 'brand_audi', 'brand_bmw', 'brand_chevrolet',\n",
       "       'brand_dodge', 'brand_honda', 'brand_isuzu', 'brand_jaguar',\n",
       "       'brand_mazda', 'brand_mercedes-benz', 'brand_mercury',\n",
       "       'brand_mitsubishi', 'brand_nissan', 'brand_peugot', 'brand_plymouth',\n",
       "       'brand_porsche', 'brand_renault', 'brand_saab', 'brand_subaru',\n",
       "       'brand_toyota', 'brand_volkswagen', 'brand_volvo', 'fuel_diesel',\n",
       "       'fuel_gas', 'aspiration_std', 'aspiration_turbo',\n",
       "       'body_style_convertible', 'body_style_hardtop', 'body_style_hatchback',\n",
       "       'body_style_sedan', 'body_style_wagon', 'drive_wheels_4wd',\n",
       "       'drive_wheels_fwd', 'drive_wheels_rwd', 'engine-location_front',\n",
       "       'engine-location_rear', 'engine-type_dohc', 'engine-type_dohcv',\n",
       "       'engine-type_l', 'engine-type_ohc', 'engine-type_ohcf',\n",
       "       'engine-type_ohcv', 'engine-type_rotor', 'num-of-cylinders_eight',\n",
       "       'num-of-cylinders_five', 'num-of-cylinders_four',\n",
       "       'num-of-cylinders_six', 'num-of-cylinders_three',\n",
       "       'num-of-cylinders_twelve', 'num-of-cylinders_two', 'fuel-system_1bbl',\n",
       "       'fuel-system_2bbl', 'fuel-system_4bbl', 'fuel-system_idi',\n",
       "       'fuel-system_mfi', 'fuel-system_mpfi', 'fuel-system_spdi',\n",
       "       'fuel-system_spfi'],\n",
       "      dtype='object')"
      ]
     },
     "execution_count": 172,
     "metadata": {},
     "output_type": "execute_result"
    }
   ],
   "source": [
    "df_dummy.columns"
   ]
  },
  {
   "cell_type": "code",
   "execution_count": 174,
   "metadata": {},
   "outputs": [],
   "source": [
    "X_train, X_test, y_train, y_test = train_test_split(df_dummy, y, test_size=0.33, random_state=42)"
   ]
  },
  {
   "cell_type": "code",
   "execution_count": 179,
   "metadata": {},
   "outputs": [],
   "source": [
    "reg = LinearRegression().fit(X_train,y_train)"
   ]
  },
  {
   "cell_type": "code",
   "execution_count": null,
   "metadata": {},
   "outputs": [],
   "source": [
    "reg."
   ]
  },
  {
   "cell_type": "code",
   "execution_count": 180,
   "metadata": {},
   "outputs": [
    {
     "data": {
      "text/plain": [
       "0.8349032446855393"
      ]
     },
     "execution_count": 180,
     "metadata": {},
     "output_type": "execute_result"
    }
   ],
   "source": [
    "reg.score(X_test,y_test)"
   ]
  },
  {
   "cell_type": "code",
   "execution_count": 181,
   "metadata": {},
   "outputs": [],
   "source": [
    "y_pred = reg.predict(X_test)"
   ]
  },
  {
   "cell_type": "code",
   "execution_count": 182,
   "metadata": {},
   "outputs": [
    {
     "data": {
      "text/plain": [
       "10705377.084964203"
      ]
     },
     "execution_count": 182,
     "metadata": {},
     "output_type": "execute_result"
    }
   ],
   "source": [
    "metrics.mean_squared_error(y_test,y_pred)"
   ]
  },
  {
   "cell_type": "code",
   "execution_count": 184,
   "metadata": {},
   "outputs": [
    {
     "data": {
      "text/plain": [
       "<matplotlib.axes._subplots.AxesSubplot at 0x7f6fd5d24da0>"
      ]
     },
     "execution_count": 184,
     "metadata": {},
     "output_type": "execute_result"
    },
    {
     "data": {
      "image/png": "[encoded data removed]",
      "text/plain": [
       "<Figure size 432x288 with 1 Axes>"
      ]
     },
     "metadata": {},
     "output_type": "display_data"
    }
   ],
   "source": [
    "sns.regplot(y_test,y_pred)"
   ]
  },
  {
   "cell_type": "code",
   "execution_count": 199,
   "metadata": {},
   "outputs": [
    {
     "data": {
      "text/plain": [
       "array([30760, 13207,  9549, 11850, 28248,  7799,  7788,  9258, 10198,\n",
       "        7775])"
      ]
     },
     "execution_count": 199,
     "metadata": {},
     "output_type": "execute_result"
    }
   ],
   "source": [
    "y_test[0:10]"
   ]
  },
  {
   "cell_type": "code",
   "execution_count": 200,
   "metadata": {},
   "outputs": [
    {
     "data": {
      "text/plain": [
       "array([30760., 13207.,  9549., 11850., 28248.,  7799.,  7788.,  9258.,\n",
       "       10198.,  7775.])"
      ]
     },
     "execution_count": 200,
     "metadata": {},
     "output_type": "execute_result"
    }
   ],
   "source": [
    "y_pred[0:10]"
   ]
  },
  {
   "cell_type": "code",
   "execution_count": null,
   "metadata": {},
   "outputs": [],
   "source": []
  }
 ],
 "metadata": {
  "kernelspec": {
   "display_name": "Python 3",
   "language": "python",
   "name": "python3"
  },
  "language_info": {
   "codemirror_mode": {
    "name": "ipython",
    "version": 3
   },
   "file_extension": ".py",
   "mimetype": "text/x-python",
   "name": "python",
   "nbconvert_exporter": "python",
   "pygments_lexer": "ipython3",
   "version": "3.6.5"
  }
 },
 "nbformat": 4,
 "nbformat_minor": 2
}
