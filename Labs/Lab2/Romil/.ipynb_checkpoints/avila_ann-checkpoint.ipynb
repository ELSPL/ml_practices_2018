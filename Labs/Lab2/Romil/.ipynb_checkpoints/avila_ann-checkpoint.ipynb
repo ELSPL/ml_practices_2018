{
 "cells": [
  {
   "cell_type": "code",
   "execution_count": 11,
   "metadata": {},
   "outputs": [],
   "source": [
    "import numpy as np\n",
    "import pandas as pd\n",
    "import tensorflow as tf\n",
    "import keras\n",
    "import matplotlib.pyplot as plt"
   ]
  },
  {
   "cell_type": "code",
   "execution_count": 17,
   "metadata": {},
   "outputs": [],
   "source": [
    "names = ['f1','f2','f3','f4','f5','f6','f7','f8','f9','f10','target']\n",
    "data_train = pd.read_csv('avila/avila-tr.txt', header = None, names = names)\n",
    "data_test = pd.read_csv('avila/avila-ts.txt', header = None, names = names)"
   ]
  },
  {
   "cell_type": "code",
   "execution_count": 37,
   "metadata": {},
   "outputs": [],
   "source": [
    "data_train.target = data_train.target.astype('category').cat.codes\n",
    "data_test.target = data_test.target.astype('category').cat.codes"
   ]
  },
  {
   "cell_type": "code",
   "execution_count": 38,
   "metadata": {},
   "outputs": [
    {
     "data": {
      "text/html": [
       "<div>\n",
       "<style scoped>\n",
       "    .dataframe tbody tr th:only-of-type {\n",
       "        vertical-align: middle;\n",
       "    }\n",
       "\n",
       "    .dataframe tbody tr th {\n",
       "        vertical-align: top;\n",
       "    }\n",
       "\n",
       "    .dataframe thead th {\n",
       "        text-align: right;\n",
       "    }\n",
       "</style>\n",
       "<table border=\"1\" class=\"dataframe\">\n",
       "  <thead>\n",
       "    <tr style=\"text-align: right;\">\n",
       "      <th></th>\n",
       "      <th>f1</th>\n",
       "      <th>f2</th>\n",
       "      <th>f3</th>\n",
       "      <th>f4</th>\n",
       "      <th>f5</th>\n",
       "      <th>f6</th>\n",
       "      <th>f7</th>\n",
       "      <th>f8</th>\n",
       "      <th>f9</th>\n",
       "      <th>f10</th>\n",
       "      <th>target</th>\n",
       "    </tr>\n",
       "  </thead>\n",
       "  <tbody>\n",
       "    <tr>\n",
       "      <th>0</th>\n",
       "      <td>0.266074</td>\n",
       "      <td>-0.165620</td>\n",
       "      <td>0.320980</td>\n",
       "      <td>0.483299</td>\n",
       "      <td>0.172340</td>\n",
       "      <td>0.273364</td>\n",
       "      <td>0.371178</td>\n",
       "      <td>0.929823</td>\n",
       "      <td>0.251173</td>\n",
       "      <td>0.159345</td>\n",
       "      <td>0</td>\n",
       "    </tr>\n",
       "    <tr>\n",
       "      <th>1</th>\n",
       "      <td>0.130292</td>\n",
       "      <td>0.870736</td>\n",
       "      <td>-3.210528</td>\n",
       "      <td>0.062493</td>\n",
       "      <td>0.261718</td>\n",
       "      <td>1.436060</td>\n",
       "      <td>1.465940</td>\n",
       "      <td>0.636203</td>\n",
       "      <td>0.282354</td>\n",
       "      <td>0.515587</td>\n",
       "      <td>0</td>\n",
       "    </tr>\n",
       "    <tr>\n",
       "      <th>2</th>\n",
       "      <td>-0.116585</td>\n",
       "      <td>0.069915</td>\n",
       "      <td>0.068476</td>\n",
       "      <td>-0.783147</td>\n",
       "      <td>0.261718</td>\n",
       "      <td>0.439463</td>\n",
       "      <td>-0.081827</td>\n",
       "      <td>-0.888236</td>\n",
       "      <td>-0.123005</td>\n",
       "      <td>0.582939</td>\n",
       "      <td>0</td>\n",
       "    </tr>\n",
       "    <tr>\n",
       "      <th>3</th>\n",
       "      <td>0.031541</td>\n",
       "      <td>0.297600</td>\n",
       "      <td>-3.210528</td>\n",
       "      <td>-0.583590</td>\n",
       "      <td>-0.721442</td>\n",
       "      <td>-0.307984</td>\n",
       "      <td>0.710932</td>\n",
       "      <td>1.051693</td>\n",
       "      <td>0.594169</td>\n",
       "      <td>-0.533994</td>\n",
       "      <td>0</td>\n",
       "    </tr>\n",
       "    <tr>\n",
       "      <th>4</th>\n",
       "      <td>0.229043</td>\n",
       "      <td>0.807926</td>\n",
       "      <td>-0.052442</td>\n",
       "      <td>0.082634</td>\n",
       "      <td>0.261718</td>\n",
       "      <td>0.148790</td>\n",
       "      <td>0.635431</td>\n",
       "      <td>0.051062</td>\n",
       "      <td>0.032902</td>\n",
       "      <td>-0.086652</td>\n",
       "      <td>5</td>\n",
       "    </tr>\n",
       "  </tbody>\n",
       "</table>\n",
       "</div>"
      ],
      "text/plain": [
       "         f1        f2        f3        f4        f5        f6        f7  \\\n",
       "0  0.266074 -0.165620  0.320980  0.483299  0.172340  0.273364  0.371178   \n",
       "1  0.130292  0.870736 -3.210528  0.062493  0.261718  1.436060  1.465940   \n",
       "2 -0.116585  0.069915  0.068476 -0.783147  0.261718  0.439463 -0.081827   \n",
       "3  0.031541  0.297600 -3.210528 -0.583590 -0.721442 -0.307984  0.710932   \n",
       "4  0.229043  0.807926 -0.052442  0.082634  0.261718  0.148790  0.635431   \n",
       "\n",
       "         f8        f9       f10  target  \n",
       "0  0.929823  0.251173  0.159345       0  \n",
       "1  0.636203  0.282354  0.515587       0  \n",
       "2 -0.888236 -0.123005  0.582939       0  \n",
       "3  1.051693  0.594169 -0.533994       0  \n",
       "4  0.051062  0.032902 -0.086652       5  "
      ]
     },
     "execution_count": 38,
     "metadata": {},
     "output_type": "execute_result"
    }
   ],
   "source": [
    "data_train.head()"
   ]
  },
  {
   "cell_type": "code",
   "execution_count": 39,
   "metadata": {},
   "outputs": [
    {
     "data": {
      "text/html": [
       "<div>\n",
       "<style scoped>\n",
       "    .dataframe tbody tr th:only-of-type {\n",
       "        vertical-align: middle;\n",
       "    }\n",
       "\n",
       "    .dataframe tbody tr th {\n",
       "        vertical-align: top;\n",
       "    }\n",
       "\n",
       "    .dataframe thead th {\n",
       "        text-align: right;\n",
       "    }\n",
       "</style>\n",
       "<table border=\"1\" class=\"dataframe\">\n",
       "  <thead>\n",
       "    <tr style=\"text-align: right;\">\n",
       "      <th></th>\n",
       "      <th>f1</th>\n",
       "      <th>f2</th>\n",
       "      <th>f3</th>\n",
       "      <th>f4</th>\n",
       "      <th>f5</th>\n",
       "      <th>f6</th>\n",
       "      <th>f7</th>\n",
       "      <th>f8</th>\n",
       "      <th>f9</th>\n",
       "      <th>f10</th>\n",
       "      <th>target</th>\n",
       "    </tr>\n",
       "  </thead>\n",
       "  <tbody>\n",
       "    <tr>\n",
       "      <th>0</th>\n",
       "      <td>-3.498799</td>\n",
       "      <td>0.250492</td>\n",
       "      <td>0.232070</td>\n",
       "      <td>1.224178</td>\n",
       "      <td>-4.922215</td>\n",
       "      <td>1.145386</td>\n",
       "      <td>0.182426</td>\n",
       "      <td>-0.165983</td>\n",
       "      <td>-0.123005</td>\n",
       "      <td>1.087144</td>\n",
       "      <td>9</td>\n",
       "    </tr>\n",
       "    <tr>\n",
       "      <th>1</th>\n",
       "      <td>0.204355</td>\n",
       "      <td>-0.354049</td>\n",
       "      <td>0.320980</td>\n",
       "      <td>0.410166</td>\n",
       "      <td>-0.989576</td>\n",
       "      <td>-2.218127</td>\n",
       "      <td>0.220177</td>\n",
       "      <td>0.181844</td>\n",
       "      <td>2.090879</td>\n",
       "      <td>-2.009758</td>\n",
       "      <td>0</td>\n",
       "    </tr>\n",
       "    <tr>\n",
       "      <th>2</th>\n",
       "      <td>0.759828</td>\n",
       "      <td>-1.304042</td>\n",
       "      <td>-0.023991</td>\n",
       "      <td>-0.973663</td>\n",
       "      <td>-0.006417</td>\n",
       "      <td>-0.349509</td>\n",
       "      <td>-0.421580</td>\n",
       "      <td>-0.450127</td>\n",
       "      <td>0.469443</td>\n",
       "      <td>0.060952</td>\n",
       "      <td>8</td>\n",
       "    </tr>\n",
       "    <tr>\n",
       "      <th>3</th>\n",
       "      <td>-0.005490</td>\n",
       "      <td>0.360409</td>\n",
       "      <td>0.281860</td>\n",
       "      <td>-0.213479</td>\n",
       "      <td>-1.168333</td>\n",
       "      <td>-1.013906</td>\n",
       "      <td>-0.346080</td>\n",
       "      <td>1.176165</td>\n",
       "      <td>0.968347</td>\n",
       "      <td>-0.627999</td>\n",
       "      <td>4</td>\n",
       "    </tr>\n",
       "    <tr>\n",
       "      <th>4</th>\n",
       "      <td>0.080916</td>\n",
       "      <td>0.101320</td>\n",
       "      <td>0.104040</td>\n",
       "      <td>0.140490</td>\n",
       "      <td>0.261718</td>\n",
       "      <td>0.480988</td>\n",
       "      <td>0.710932</td>\n",
       "      <td>-0.253430</td>\n",
       "      <td>-0.497183</td>\n",
       "      <td>0.155681</td>\n",
       "      <td>0</td>\n",
       "    </tr>\n",
       "  </tbody>\n",
       "</table>\n",
       "</div>"
      ],
      "text/plain": [
       "         f1        f2        f3        f4        f5        f6        f7  \\\n",
       "0 -3.498799  0.250492  0.232070  1.224178 -4.922215  1.145386  0.182426   \n",
       "1  0.204355 -0.354049  0.320980  0.410166 -0.989576 -2.218127  0.220177   \n",
       "2  0.759828 -1.304042 -0.023991 -0.973663 -0.006417 -0.349509 -0.421580   \n",
       "3 -0.005490  0.360409  0.281860 -0.213479 -1.168333 -1.013906 -0.346080   \n",
       "4  0.080916  0.101320  0.104040  0.140490  0.261718  0.480988  0.710932   \n",
       "\n",
       "         f8        f9       f10  target  \n",
       "0 -0.165983 -0.123005  1.087144       9  \n",
       "1  0.181844  2.090879 -2.009758       0  \n",
       "2 -0.450127  0.469443  0.060952       8  \n",
       "3  1.176165  0.968347 -0.627999       4  \n",
       "4 -0.253430 -0.497183  0.155681       0  "
      ]
     },
     "execution_count": 39,
     "metadata": {},
     "output_type": "execute_result"
    }
   ],
   "source": [
    "data_test.head()"
   ]
  },
  {
   "cell_type": "code",
   "execution_count": 40,
   "metadata": {},
   "outputs": [
    {
     "data": {
      "text/plain": [
       "f1        0\n",
       "f2        0\n",
       "f3        0\n",
       "f4        0\n",
       "f5        0\n",
       "f6        0\n",
       "f7        0\n",
       "f8        0\n",
       "f9        0\n",
       "f10       0\n",
       "target    0\n",
       "dtype: int64"
      ]
     },
     "execution_count": 40,
     "metadata": {},
     "output_type": "execute_result"
    }
   ],
   "source": [
    "data_train.isnull().sum()"
   ]
  },
  {
   "cell_type": "code",
   "execution_count": 41,
   "metadata": {},
   "outputs": [
    {
     "data": {
      "text/plain": [
       "f1        0\n",
       "f2        0\n",
       "f3        0\n",
       "f4        0\n",
       "f5        0\n",
       "f6        0\n",
       "f7        0\n",
       "f8        0\n",
       "f9        0\n",
       "f10       0\n",
       "target    0\n",
       "dtype: int64"
      ]
     },
     "execution_count": 41,
     "metadata": {},
     "output_type": "execute_result"
    }
   ],
   "source": [
    "data_test.isnull().sum()"
   ]
  },
  {
   "cell_type": "code",
   "execution_count": 42,
   "metadata": {},
   "outputs": [
    {
     "data": {
      "text/plain": [
       "((10430, 11), (10437, 11))"
      ]
     },
     "execution_count": 42,
     "metadata": {},
     "output_type": "execute_result"
    }
   ],
   "source": [
    "data_train.shape,data_test.shape"
   ]
  },
  {
   "cell_type": "code",
   "execution_count": 59,
   "metadata": {},
   "outputs": [],
   "source": [
    "x = data_train.drop('target',axis=1)\n",
    "y = data_train['target']"
   ]
  },
  {
   "cell_type": "code",
   "execution_count": 72,
   "metadata": {},
   "outputs": [],
   "source": [
    "from sklearn.model_selection import train_test_split\n",
    "x_train,x_test,y_train,y_test = train_test_split(x,y,test_size = 0.25, random_state = 42)"
   ]
  },
  {
   "cell_type": "code",
   "execution_count": 96,
   "metadata": {},
   "outputs": [
    {
     "data": {
      "text/plain": [
       "((10430, 10), (10430,), (10437, 10), (10437,))"
      ]
     },
     "execution_count": 96,
     "metadata": {},
     "output_type": "execute_result"
    }
   ],
   "source": [
    "x_train = data_train.drop('target',axis=1)\n",
    "y_train = data_train['target']\n",
    "x_test = data_test.drop('target', axis = 1)\n",
    "y_test = data_test['target']\n",
    "x_train.shape,y_train.shape,x_test.shape,y_test.shape\n"
   ]
  },
  {
   "cell_type": "code",
   "execution_count": 97,
   "metadata": {},
   "outputs": [],
   "source": [
    "model = tf.keras.models.Sequential()"
   ]
  },
  {
   "cell_type": "code",
   "execution_count": 98,
   "metadata": {},
   "outputs": [],
   "source": [
    "model.add(tf.keras.layers.Dense(16,input_dim = 10, activation = tf.nn.relu))\n",
    "model.add(tf.keras.layers.Dense(16, activation = tf.nn.relu))\n",
    "model.add(tf.keras.layers.Dense(16,activation = tf.nn.relu))\n",
    "model.add(tf.keras.layers.Dense(12, activation = tf.nn.softmax))"
   ]
  },
  {
   "cell_type": "code",
   "execution_count": 99,
   "metadata": {},
   "outputs": [],
   "source": [
    "model.compile(optimizer = 'adam',\n",
    "             loss = 'sparse_categorical_crossentropy',\n",
    "             metrics = ['accuracy'])"
   ]
  },
  {
   "cell_type": "code",
   "execution_count": 100,
   "metadata": {},
   "outputs": [],
   "source": [
    "from keras.callbacks import ModelCheckpoint\n",
    "ckpt_model = 'avila.best.hdf5'\n",
    "checkpoint = ModelCheckpoint(ckpt_model, \n",
    "                            monitor='val_acc',\n",
    "                            verbose=1,\n",
    "                            save_best_only=True,\n",
    "                            mode='max')\n",
    "callbacks_list = [checkpoint]"
   ]
  },
  {
   "cell_type": "code",
   "execution_count": 101,
   "metadata": {},
   "outputs": [
    {
     "name": "stdout",
     "output_type": "stream",
     "text": [
      "\n",
      "Epoch 00001: val_acc improved from -inf to 0.53138, saving model to avila.best.hdf5\n",
      "\n",
      "Epoch 00002: val_acc improved from 0.53138 to 0.59749, saving model to avila.best.hdf5\n",
      "\n",
      "Epoch 00003: val_acc improved from 0.59749 to 0.63486, saving model to avila.best.hdf5\n",
      "\n",
      "Epoch 00004: val_acc improved from 0.63486 to 0.65229, saving model to avila.best.hdf5\n",
      "\n",
      "Epoch 00005: val_acc improved from 0.65229 to 0.66619, saving model to avila.best.hdf5\n",
      "\n",
      "Epoch 00006: val_acc improved from 0.66619 to 0.67567, saving model to avila.best.hdf5\n",
      "\n",
      "Epoch 00007: val_acc did not improve from 0.67567\n",
      "\n",
      "Epoch 00008: val_acc improved from 0.67567 to 0.68420, saving model to avila.best.hdf5\n",
      "\n",
      "Epoch 00009: val_acc improved from 0.68420 to 0.68870, saving model to avila.best.hdf5\n",
      "\n",
      "Epoch 00010: val_acc improved from 0.68870 to 0.69752, saving model to avila.best.hdf5\n",
      "\n",
      "Epoch 00011: val_acc improved from 0.69752 to 0.70873, saving model to avila.best.hdf5\n",
      "\n",
      "Epoch 00012: val_acc improved from 0.70873 to 0.71103, saving model to avila.best.hdf5\n",
      "\n",
      "Epoch 00013: val_acc improved from 0.71103 to 0.71879, saving model to avila.best.hdf5\n",
      "\n",
      "Epoch 00014: val_acc improved from 0.71879 to 0.72118, saving model to avila.best.hdf5\n",
      "\n",
      "Epoch 00015: val_acc improved from 0.72118 to 0.72387, saving model to avila.best.hdf5\n",
      "\n",
      "Epoch 00016: val_acc improved from 0.72387 to 0.72415, saving model to avila.best.hdf5\n",
      "\n",
      "Epoch 00017: val_acc did not improve from 0.72415\n",
      "\n",
      "Epoch 00018: val_acc improved from 0.72415 to 0.73163, saving model to avila.best.hdf5\n",
      "\n",
      "Epoch 00019: val_acc improved from 0.73163 to 0.73699, saving model to avila.best.hdf5\n",
      "\n",
      "Epoch 00020: val_acc improved from 0.73699 to 0.73786, saving model to avila.best.hdf5\n",
      "\n",
      "Epoch 00021: val_acc did not improve from 0.73786\n",
      "\n",
      "Epoch 00022: val_acc improved from 0.73786 to 0.74303, saving model to avila.best.hdf5\n",
      "\n",
      "Epoch 00023: val_acc did not improve from 0.74303\n",
      "\n",
      "Epoch 00024: val_acc improved from 0.74303 to 0.74351, saving model to avila.best.hdf5\n",
      "\n",
      "Epoch 00025: val_acc did not improve from 0.74351\n",
      "\n",
      "Epoch 00026: val_acc improved from 0.74351 to 0.75280, saving model to avila.best.hdf5\n",
      "\n",
      "Epoch 00027: val_acc improved from 0.75280 to 0.75788, saving model to avila.best.hdf5\n",
      "\n",
      "Epoch 00028: val_acc did not improve from 0.75788\n",
      "\n",
      "Epoch 00029: val_acc improved from 0.75788 to 0.75817, saving model to avila.best.hdf5\n",
      "\n",
      "Epoch 00030: val_acc did not improve from 0.75817\n",
      "\n",
      "Epoch 00031: val_acc improved from 0.75817 to 0.75855, saving model to avila.best.hdf5\n",
      "\n",
      "Epoch 00032: val_acc did not improve from 0.75855\n",
      "\n",
      "Epoch 00033: val_acc improved from 0.75855 to 0.76143, saving model to avila.best.hdf5\n",
      "\n",
      "Epoch 00034: val_acc improved from 0.76143 to 0.76852, saving model to avila.best.hdf5\n",
      "\n",
      "Epoch 00035: val_acc improved from 0.76852 to 0.76880, saving model to avila.best.hdf5\n",
      "\n",
      "Epoch 00036: val_acc improved from 0.76880 to 0.77455, saving model to avila.best.hdf5\n",
      "\n",
      "Epoch 00037: val_acc did not improve from 0.77455\n",
      "\n",
      "Epoch 00038: val_acc did not improve from 0.77455\n",
      "\n",
      "Epoch 00039: val_acc improved from 0.77455 to 0.77762, saving model to avila.best.hdf5\n",
      "\n",
      "Epoch 00040: val_acc did not improve from 0.77762\n",
      "\n",
      "Epoch 00041: val_acc did not improve from 0.77762\n",
      "\n",
      "Epoch 00042: val_acc did not improve from 0.77762\n",
      "\n",
      "Epoch 00043: val_acc improved from 0.77762 to 0.77810, saving model to avila.best.hdf5\n",
      "\n",
      "Epoch 00044: val_acc did not improve from 0.77810\n",
      "\n",
      "Epoch 00045: val_acc improved from 0.77810 to 0.78308, saving model to avila.best.hdf5\n",
      "\n",
      "Epoch 00046: val_acc improved from 0.78308 to 0.78442, saving model to avila.best.hdf5\n",
      "\n",
      "Epoch 00047: val_acc did not improve from 0.78442\n",
      "\n",
      "Epoch 00048: val_acc improved from 0.78442 to 0.78844, saving model to avila.best.hdf5\n",
      "\n",
      "Epoch 00049: val_acc improved from 0.78844 to 0.79094, saving model to avila.best.hdf5\n",
      "\n",
      "Epoch 00050: val_acc improved from 0.79094 to 0.79209, saving model to avila.best.hdf5\n",
      "\n",
      "Epoch 00051: val_acc improved from 0.79209 to 0.79668, saving model to avila.best.hdf5\n",
      "\n",
      "Epoch 00052: val_acc did not improve from 0.79668\n",
      "\n",
      "Epoch 00053: val_acc did not improve from 0.79668\n",
      "\n",
      "Epoch 00054: val_acc improved from 0.79668 to 0.79803, saving model to avila.best.hdf5\n",
      "\n",
      "Epoch 00055: val_acc did not improve from 0.79803\n",
      "\n",
      "Epoch 00056: val_acc did not improve from 0.79803\n",
      "\n",
      "Epoch 00057: val_acc did not improve from 0.79803\n",
      "\n",
      "Epoch 00058: val_acc did not improve from 0.79803\n",
      "\n",
      "Epoch 00059: val_acc improved from 0.79803 to 0.80042, saving model to avila.best.hdf5\n",
      "\n",
      "Epoch 00060: val_acc did not improve from 0.80042\n",
      "\n",
      "Epoch 00061: val_acc improved from 0.80042 to 0.80445, saving model to avila.best.hdf5\n",
      "\n",
      "Epoch 00062: val_acc did not improve from 0.80445\n",
      "\n",
      "Epoch 00063: val_acc did not improve from 0.80445\n",
      "\n",
      "Epoch 00064: val_acc did not improve from 0.80445\n",
      "\n",
      "Epoch 00065: val_acc improved from 0.80445 to 0.80617, saving model to avila.best.hdf5\n",
      "\n",
      "Epoch 00066: val_acc did not improve from 0.80617\n",
      "\n",
      "Epoch 00067: val_acc improved from 0.80617 to 0.80742, saving model to avila.best.hdf5\n",
      "\n",
      "Epoch 00068: val_acc did not improve from 0.80742\n",
      "\n",
      "Epoch 00069: val_acc improved from 0.80742 to 0.81058, saving model to avila.best.hdf5\n",
      "\n",
      "Epoch 00070: val_acc did not improve from 0.81058\n",
      "\n",
      "Epoch 00071: val_acc did not improve from 0.81058\n",
      "\n",
      "Epoch 00072: val_acc improved from 0.81058 to 0.81537, saving model to avila.best.hdf5\n",
      "\n",
      "Epoch 00073: val_acc did not improve from 0.81537\n",
      "\n",
      "Epoch 00074: val_acc did not improve from 0.81537\n",
      "\n",
      "Epoch 00075: val_acc did not improve from 0.81537\n",
      "\n",
      "Epoch 00076: val_acc improved from 0.81537 to 0.81930, saving model to avila.best.hdf5\n",
      "\n",
      "Epoch 00077: val_acc did not improve from 0.81930\n",
      "\n",
      "Epoch 00078: val_acc did not improve from 0.81930\n",
      "\n",
      "Epoch 00079: val_acc did not improve from 0.81930\n",
      "\n",
      "Epoch 00080: val_acc improved from 0.81930 to 0.82179, saving model to avila.best.hdf5\n",
      "\n",
      "Epoch 00081: val_acc did not improve from 0.82179\n",
      "\n",
      "Epoch 00082: val_acc did not improve from 0.82179\n",
      "\n",
      "Epoch 00083: val_acc did not improve from 0.82179\n",
      "\n",
      "Epoch 00084: val_acc did not improve from 0.82179\n",
      "\n",
      "Epoch 00085: val_acc did not improve from 0.82179\n",
      "\n",
      "Epoch 00086: val_acc did not improve from 0.82179\n",
      "\n",
      "Epoch 00087: val_acc did not improve from 0.82179\n",
      "\n",
      "Epoch 00088: val_acc improved from 0.82179 to 0.82591, saving model to avila.best.hdf5\n",
      "\n",
      "Epoch 00089: val_acc did not improve from 0.82591\n",
      "\n",
      "Epoch 00090: val_acc did not improve from 0.82591\n",
      "\n",
      "Epoch 00091: val_acc did not improve from 0.82591\n",
      "\n",
      "Epoch 00092: val_acc did not improve from 0.82591\n",
      "\n",
      "Epoch 00093: val_acc did not improve from 0.82591\n",
      "\n",
      "Epoch 00094: val_acc did not improve from 0.82591\n",
      "\n",
      "Epoch 00095: val_acc improved from 0.82591 to 0.82667, saving model to avila.best.hdf5\n",
      "\n",
      "Epoch 00096: val_acc improved from 0.82667 to 0.83444, saving model to avila.best.hdf5\n",
      "\n",
      "Epoch 00097: val_acc did not improve from 0.83444\n",
      "\n",
      "Epoch 00098: val_acc did not improve from 0.83444\n",
      "\n",
      "Epoch 00099: val_acc did not improve from 0.83444\n",
      "\n",
      "Epoch 00100: val_acc did not improve from 0.83444\n"
     ]
    }
   ],
   "source": [
    "history = model.fit(x_train,\n",
    "                    y_train,\n",
    "                    validation_data=(x_test, y_test),\n",
    "                    epochs=100,\n",
    "                    batch_size=10,\n",
    "                    callbacks=callbacks_list,\n",
    "                    verbose=0)"
   ]
  },
  {
   "cell_type": "code",
   "execution_count": 102,
   "metadata": {},
   "outputs": [
    {
     "data": {
      "image/png": "[encoded data removed]",
      "text/plain": [
       "<Figure size 432x288 with 1 Axes>"
      ]
     },
     "metadata": {},
     "output_type": "display_data"
    }
   ],
   "source": [
    "# Model accuracy\n",
    "plt.plot(history.history['acc'])\n",
    "plt.plot(history.history['val_acc'])\n",
    "plt.title('Model Accuracy')\n",
    "plt.ylabel('accuracy')\n",
    "plt.xlabel('epoch')\n",
    "plt.legend(['train', 'test'])\n",
    "plt.show()"
   ]
  },
  {
   "cell_type": "code",
   "execution_count": 103,
   "metadata": {},
   "outputs": [
    {
     "data": {
      "image/png": "[encoded data removed]",
      "text/plain": [
       "<Figure size 432x288 with 1 Axes>"
      ]
     },
     "metadata": {},
     "output_type": "display_data"
    }
   ],
   "source": [
    "# Model Losss\n",
    "plt.plot(history.history['loss'])\n",
    "plt.plot(history.history['val_loss'])\n",
    "plt.title('Model Loss')\n",
    "plt.ylabel('loss')\n",
    "plt.xlabel('epoch')\n",
    "plt.legend(['train', 'test'])\n",
    "plt.show()"
   ]
  },
  {
   "cell_type": "code",
   "execution_count": null,
   "metadata": {},
   "outputs": [],
   "source": [
    "# print final accuracy\n",
    "scores = model.evaluate(x_test, y_test, verbose=0)\n",
    "print(\"%s: %.2f%%\" % (model.metrics_names[1], scores[1]*100))"
   ]
  }
 ],
 "metadata": {
  "kernelspec": {
   "display_name": "Python 3",
   "language": "python",
   "name": "python3"
  },
  "language_info": {
   "codemirror_mode": {
    "name": "ipython",
    "version": 3
   },
   "file_extension": ".py",
   "mimetype": "text/x-python",
   "name": "python",
   "nbconvert_exporter": "python",
   "pygments_lexer": "ipython3",
   "version": "3.6.8"
  }
 },
 "nbformat": 4,
 "nbformat_minor": 2
}
