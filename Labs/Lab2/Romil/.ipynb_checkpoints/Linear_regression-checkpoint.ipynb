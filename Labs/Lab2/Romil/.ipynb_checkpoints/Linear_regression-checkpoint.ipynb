{
 "cells": [
  {
   "cell_type": "code",
   "execution_count": 1,
   "metadata": {},
   "outputs": [
    {
     "name": "stderr",
     "output_type": "stream",
     "text": [
      "/home/romil/anaconda3/lib/python3.6/site-packages/sklearn/cross_validation.py:41: DeprecationWarning: This module was deprecated in version 0.18 in favor of the model_selection module into which all the refactored classes and functions are moved. Also note that the interface of the new CV iterators are different from that of this module. This module will be removed in 0.20.\n",
      "  \"This module will be removed in 0.20.\", DeprecationWarning)\n"
     ]
    }
   ],
   "source": [
    "#importing some necessary packages\n",
    "import numpy as np\n",
    "import pandas as pd\n",
    "from sklearn import datasets\n",
    "from sklearn.cross_validation import train_test_split\n",
    "from sklearn.linear_model import LinearRegression\n",
    "from sklearn import metrics\n",
    "import matplotlib.pyplot as plt\n",
    "import seaborn as sns"
   ]
  },
  {
   "cell_type": "code",
   "execution_count": 2,
   "metadata": {},
   "outputs": [
    {
     "data": {
      "text/html": [
       "<div>\n",
       "<style scoped>\n",
       "    .dataframe tbody tr th:only-of-type {\n",
       "        vertical-align: middle;\n",
       "    }\n",
       "\n",
       "    .dataframe tbody tr th {\n",
       "        vertical-align: top;\n",
       "    }\n",
       "\n",
       "    .dataframe thead th {\n",
       "        text-align: right;\n",
       "    }\n",
       "</style>\n",
       "<table border=\"1\" class=\"dataframe\">\n",
       "  <thead>\n",
       "    <tr style=\"text-align: right;\">\n",
       "      <th></th>\n",
       "      <th>0</th>\n",
       "      <th>1</th>\n",
       "      <th>2</th>\n",
       "      <th>3</th>\n",
       "      <th>4</th>\n",
       "      <th>5</th>\n",
       "      <th>6</th>\n",
       "      <th>7</th>\n",
       "      <th>8</th>\n",
       "      <th>9</th>\n",
       "      <th>10</th>\n",
       "      <th>11</th>\n",
       "      <th>12</th>\n",
       "    </tr>\n",
       "  </thead>\n",
       "  <tbody>\n",
       "    <tr>\n",
       "      <th>0</th>\n",
       "      <td>0.00632</td>\n",
       "      <td>18.0</td>\n",
       "      <td>2.31</td>\n",
       "      <td>0.0</td>\n",
       "      <td>0.538</td>\n",
       "      <td>6.575</td>\n",
       "      <td>65.2</td>\n",
       "      <td>4.0900</td>\n",
       "      <td>1.0</td>\n",
       "      <td>296.0</td>\n",
       "      <td>15.3</td>\n",
       "      <td>396.90</td>\n",
       "      <td>4.98</td>\n",
       "    </tr>\n",
       "    <tr>\n",
       "      <th>1</th>\n",
       "      <td>0.02731</td>\n",
       "      <td>0.0</td>\n",
       "      <td>7.07</td>\n",
       "      <td>0.0</td>\n",
       "      <td>0.469</td>\n",
       "      <td>6.421</td>\n",
       "      <td>78.9</td>\n",
       "      <td>4.9671</td>\n",
       "      <td>2.0</td>\n",
       "      <td>242.0</td>\n",
       "      <td>17.8</td>\n",
       "      <td>396.90</td>\n",
       "      <td>9.14</td>\n",
       "    </tr>\n",
       "    <tr>\n",
       "      <th>2</th>\n",
       "      <td>0.02729</td>\n",
       "      <td>0.0</td>\n",
       "      <td>7.07</td>\n",
       "      <td>0.0</td>\n",
       "      <td>0.469</td>\n",
       "      <td>7.185</td>\n",
       "      <td>61.1</td>\n",
       "      <td>4.9671</td>\n",
       "      <td>2.0</td>\n",
       "      <td>242.0</td>\n",
       "      <td>17.8</td>\n",
       "      <td>392.83</td>\n",
       "      <td>4.03</td>\n",
       "    </tr>\n",
       "    <tr>\n",
       "      <th>3</th>\n",
       "      <td>0.03237</td>\n",
       "      <td>0.0</td>\n",
       "      <td>2.18</td>\n",
       "      <td>0.0</td>\n",
       "      <td>0.458</td>\n",
       "      <td>6.998</td>\n",
       "      <td>45.8</td>\n",
       "      <td>6.0622</td>\n",
       "      <td>3.0</td>\n",
       "      <td>222.0</td>\n",
       "      <td>18.7</td>\n",
       "      <td>394.63</td>\n",
       "      <td>2.94</td>\n",
       "    </tr>\n",
       "    <tr>\n",
       "      <th>4</th>\n",
       "      <td>0.06905</td>\n",
       "      <td>0.0</td>\n",
       "      <td>2.18</td>\n",
       "      <td>0.0</td>\n",
       "      <td>0.458</td>\n",
       "      <td>7.147</td>\n",
       "      <td>54.2</td>\n",
       "      <td>6.0622</td>\n",
       "      <td>3.0</td>\n",
       "      <td>222.0</td>\n",
       "      <td>18.7</td>\n",
       "      <td>396.90</td>\n",
       "      <td>5.33</td>\n",
       "    </tr>\n",
       "  </tbody>\n",
       "</table>\n",
       "</div>"
      ],
      "text/plain": [
       "        0     1     2    3      4      5     6       7    8      9     10  \\\n",
       "0  0.00632  18.0  2.31  0.0  0.538  6.575  65.2  4.0900  1.0  296.0  15.3   \n",
       "1  0.02731   0.0  7.07  0.0  0.469  6.421  78.9  4.9671  2.0  242.0  17.8   \n",
       "2  0.02729   0.0  7.07  0.0  0.469  7.185  61.1  4.9671  2.0  242.0  17.8   \n",
       "3  0.03237   0.0  2.18  0.0  0.458  6.998  45.8  6.0622  3.0  222.0  18.7   \n",
       "4  0.06905   0.0  2.18  0.0  0.458  7.147  54.2  6.0622  3.0  222.0  18.7   \n",
       "\n",
       "       11    12  \n",
       "0  396.90  4.98  \n",
       "1  396.90  9.14  \n",
       "2  392.83  4.03  \n",
       "3  394.63  2.94  \n",
       "4  396.90  5.33  "
      ]
     },
     "execution_count": 2,
     "metadata": {},
     "output_type": "execute_result"
    }
   ],
   "source": [
    "#Loading dataset\n",
    "boston = datasets.load_boston()\n",
    "X = boston.data\n",
    "y = boston.target\n",
    "df = pd.DataFrame(X)\n",
    "df.head()"
   ]
  },
  {
   "cell_type": "code",
   "execution_count": 3,
   "metadata": {},
   "outputs": [
    {
     "data": {
      "text/plain": [
       "array(['CRIM', 'ZN', 'INDUS', 'CHAS', 'NOX', 'RM', 'AGE', 'DIS', 'RAD',\n",
       "       'TAX', 'PTRATIO', 'B', 'LSTAT'], dtype='<U7')"
      ]
     },
     "execution_count": 3,
     "metadata": {},
     "output_type": "execute_result"
    }
   ],
   "source": [
    "# Column names\n",
    "boston.feature_names"
   ]
  },
  {
   "cell_type": "code",
   "execution_count": 4,
   "metadata": {},
   "outputs": [],
   "source": [
    "#Splitting the dataset into train and testing dataset\n",
    "X_train, X_test, y_train, y_test = train_test_split(X, y, test_size=0.33, random_state=42)"
   ]
  },
  {
   "cell_type": "code",
   "execution_count": 5,
   "metadata": {},
   "outputs": [
    {
     "name": "stdout",
     "output_type": "stream",
     "text": [
      "(339, 13) (167, 13) (339,) (167,)\n"
     ]
    }
   ],
   "source": [
    "# getting shape of test and train after splitting\n",
    "print(X_train.shape,X_test.shape,y_train.shape,y_test.shape)"
   ]
  },
  {
   "cell_type": "code",
   "execution_count": null,
   "metadata": {},
   "outputs": [],
   "source": []
  },
  {
   "cell_type": "markdown",
   "metadata": {},
   "source": [
    "```"
   ]
  },
  {
   "cell_type": "code",
   "execution_count": 6,
   "metadata": {},
   "outputs": [],
   "source": [
    "y_train = np.reshape(y_train, (339,1))\n",
    "y_test = np.reshape(y_test,(167,1))"
   ]
  },
  {
   "cell_type": "code",
   "execution_count": 22,
   "metadata": {},
   "outputs": [],
   "source": [
    "X_train_new = X_train[:,6:7]\n",
    "X_test_new = X_test[:,6:7]\n"
   ]
  },
  {
   "cell_type": "markdown",
   "metadata": {},
   "source": [
    "## Data visualization"
   ]
  },
  {
   "cell_type": "code",
   "execution_count": 8,
   "metadata": {},
   "outputs": [
    {
     "data": {
      "text/plain": [
       "<matplotlib.collections.PathCollection at 0x7f63e95c0780>"
      ]
     },
     "execution_count": 8,
     "metadata": {},
     "output_type": "execute_result"
    },
    {
     "data": {
      "image/png": "[encoded data removed]",
      "text/plain": [
       "<Figure size 432x288 with 1 Axes>"
      ]
     },
     "metadata": {},
     "output_type": "display_data"
    }
   ],
   "source": [
    "plt.scatter(X_train_new,y_train)"
   ]
  },
  {
   "cell_type": "code",
   "execution_count": 9,
   "metadata": {},
   "outputs": [],
   "source": [
    "reg = LinearRegression().fit(X_train_new,y_train)"
   ]
  },
  {
   "cell_type": "code",
   "execution_count": 10,
   "metadata": {},
   "outputs": [
    {
     "data": {
      "text/plain": [
       "0.14833924141410104"
      ]
     },
     "execution_count": 10,
     "metadata": {},
     "output_type": "execute_result"
    }
   ],
   "source": [
    "reg.score(X_test_new,y_test)"
   ]
  },
  {
   "cell_type": "code",
   "execution_count": 11,
   "metadata": {},
   "outputs": [],
   "source": [
    "y_pred = reg.predict(X_test_new)\n"
   ]
  },
  {
   "cell_type": "code",
   "execution_count": 12,
   "metadata": {},
   "outputs": [
    {
     "data": {
      "text/plain": [
       "64.45241584915273"
      ]
     },
     "execution_count": 12,
     "metadata": {},
     "output_type": "execute_result"
    }
   ],
   "source": [
    "metrics.mean_squared_error(y_test,y_pred)"
   ]
  },
  {
   "cell_type": "code",
   "execution_count": 13,
   "metadata": {},
   "outputs": [
    {
     "data": {
      "text/plain": [
       "array([[-0.12119402]])"
      ]
     },
     "execution_count": 13,
     "metadata": {},
     "output_type": "execute_result"
    }
   ],
   "source": [
    "reg.coef_"
   ]
  },
  {
   "cell_type": "code",
   "execution_count": 14,
   "metadata": {},
   "outputs": [
    {
     "data": {
      "text/plain": [
       "array([31.32592649])"
      ]
     },
     "execution_count": 14,
     "metadata": {},
     "output_type": "execute_result"
    }
   ],
   "source": [
    "reg.intercept_"
   ]
  },
  {
   "cell_type": "code",
   "execution_count": 15,
   "metadata": {},
   "outputs": [],
   "source": [
    "def plot_lin(X,y,slope,c):\n",
    "    \n",
    "    fig = plt.figure(figsize=(10,5))\n",
    "    ax = fig.add_subplot(111)\n",
    "    ax.scatter(X,y,label='Data')\n",
    "    plt.plot(X,X*slope + c,label = 'line', color = 'g')\n",
    "    ax.legend()\n",
    "    plt.show()"
   ]
  },
  {
   "cell_type": "code",
   "execution_count": 16,
   "metadata": {},
   "outputs": [
    {
     "data": {
      "image/png": "[encoded data removed]",
      "text/plain": [
       "<Figure size 720x360 with 1 Axes>"
      ]
     },
     "metadata": {},
     "output_type": "display_data"
    }
   ],
   "source": [
    "X = X_train_new\n",
    "y = y_train\n",
    "slope = reg.coef_\n",
    "c = reg.intercept_\n",
    "plot_lin(X,y,slope,c)"
   ]
  },
  {
   "cell_type": "code",
   "execution_count": 27,
   "metadata": {},
   "outputs": [],
   "source": [
    "import pymc3 as pm\n",
    "X = X_train_new"
   ]
  },
  {
   "cell_type": "code",
   "execution_count": 28,
   "metadata": {},
   "outputs": [
    {
     "name": "stderr",
     "output_type": "stream",
     "text": [
      "Auto-assigning NUTS sampler...\n",
      "Initializing NUTS using jitter+adapt_diag...\n",
      "Sequential sampling (1 chains in 1 job)\n",
      "NUTS: [x, Intercept, sigma]\n",
      "100%|██████████| 15500/15500 [00:31<00:00, 494.19it/s]\n",
      "The acceptance probability does not match the target. It is 0.934166675584695, but should be close to 0.8. Try to increase the number of tuning steps.\n",
      "Only one chain was sampled, this makes it impossible to run some convergence checks\n"
     ]
    },
    {
     "data": {
      "image/png": "[encoded data removed]",
      "text/plain": [
       "<Figure size 864x432 with 6 Axes>"
      ]
     },
     "metadata": {},
     "output_type": "display_data"
    }
   ],
   "source": [
    "with pm.Model() as model: \n",
    "    sigma = pm.HalfCauchy('sigma', beta=10, testval=1.)\n",
    "    intercept = pm.Normal('Intercept', 0, sd=20)\n",
    "    x_coeff = pm.Normal('x', 0, sd=20)\n",
    "\n",
    "    # Define likelihood\n",
    "    likelihood = pm.Normal('y', mu=intercept + x_coeff * X,\n",
    "                        sd=sigma, observed=y_train)\n",
    "\n",
    "    # Inference!\n",
    "    trace = pm.sample(15000,chains =1,cores=4)\n",
    "pm.traceplot(trace)\n",
    "plt.show()\n",
    "#print(np.mean([1 if obj<0 else 0 for obj in trace['x']]))"
   ]
  },
  {
   "cell_type": "code",
   "execution_count": 65,
   "metadata": {},
   "outputs": [
    {
     "name": "stdout",
     "output_type": "stream",
     "text": [
      "0.562\n"
     ]
    }
   ],
   "source": [
    "print(np.mean([1 if obj<(31.2) else 0 for obj in trace[intercept]]))"
   ]
  },
  {
   "cell_type": "code",
   "execution_count": 66,
   "metadata": {},
   "outputs": [
    {
     "data": {
      "text/plain": [
       "array([[ 96.7],\n",
       "       [ 90.3],\n",
       "       [ 96.1],\n",
       "       [ 83.5],\n",
       "       [ 97.1],\n",
       "       [ 41.5],\n",
       "       [ 97.4],\n",
       "       [ 75. ],\n",
       "       [ 73.1],\n",
       "       [ 84.2],\n",
       "       [ 33.1],\n",
       "       [ 26.3],\n",
       "       [ 58.7],\n",
       "       [ 97.8],\n",
       "       [100. ],\n",
       "       [100. ],\n",
       "       [ 97.4],\n",
       "       [ 27.6],\n",
       "       [ 88.5],\n",
       "       [ 92.6],\n",
       "       [100. ],\n",
       "       [ 96.8],\n",
       "       [ 21.4],\n",
       "       [ 91.1],\n",
       "       [ 96.1],\n",
       "       [ 73.5],\n",
       "       [ 94.7],\n",
       "       [100. ],\n",
       "       [  9.9],\n",
       "       [ 17.5],\n",
       "       [ 91.2],\n",
       "       [100. ],\n",
       "       [100. ],\n",
       "       [ 53.6],\n",
       "       [ 88. ],\n",
       "       [ 77.7],\n",
       "       [ 41.1],\n",
       "       [ 46.7],\n",
       "       [ 49.1],\n",
       "       [ 93. ],\n",
       "       [ 93.9],\n",
       "       [ 15.3],\n",
       "       [ 76.9],\n",
       "       [  6. ],\n",
       "       [ 52.8],\n",
       "       [ 86.5],\n",
       "       [  8.4],\n",
       "       [ 65.2],\n",
       "       [ 20.8],\n",
       "       [ 18.4],\n",
       "       [ 40.3],\n",
       "       [ 91. ],\n",
       "       [ 96. ],\n",
       "       [ 17. ],\n",
       "       [ 89.4],\n",
       "       [ 71.6],\n",
       "       [100. ],\n",
       "       [ 93.6],\n",
       "       [ 61.4],\n",
       "       [ 34.1],\n",
       "       [ 97.9],\n",
       "       [100. ],\n",
       "       [ 79.2],\n",
       "       [ 31.3],\n",
       "       [ 96.2],\n",
       "       [ 47.2],\n",
       "       [ 81.6],\n",
       "       [ 63.1],\n",
       "       [ 84.6],\n",
       "       [ 66.6],\n",
       "       [ 82.9],\n",
       "       [ 91. ],\n",
       "       [ 49.3],\n",
       "       [100. ],\n",
       "       [ 97.3],\n",
       "       [ 73.4],\n",
       "       [ 98.9],\n",
       "       [ 89.8],\n",
       "       [ 67.2],\n",
       "       [ 94.3],\n",
       "       [ 91.2],\n",
       "       [ 87.4],\n",
       "       [ 70.4],\n",
       "       [ 30.2],\n",
       "       [ 71.7],\n",
       "       [ 79.2],\n",
       "       [ 97.4],\n",
       "       [ 10. ],\n",
       "       [ 51. ],\n",
       "       [ 38.3],\n",
       "       [ 98.8],\n",
       "       [100. ],\n",
       "       [ 96. ],\n",
       "       [ 95.7],\n",
       "       [ 78.1],\n",
       "       [ 22.9],\n",
       "       [ 97. ],\n",
       "       [ 98. ],\n",
       "       [ 69.6],\n",
       "       [100. ],\n",
       "       [ 42.2],\n",
       "       [ 42.8],\n",
       "       [ 76. ],\n",
       "       [ 36.1],\n",
       "       [ 92.9],\n",
       "       [ 95.6],\n",
       "       [ 15.7],\n",
       "       [ 34.9],\n",
       "       [ 41.9],\n",
       "       [ 40.4],\n",
       "       [ 21.9],\n",
       "       [100. ],\n",
       "       [ 77.8],\n",
       "       [ 31.5],\n",
       "       [ 88.4],\n",
       "       [ 58.1],\n",
       "       [ 80.8],\n",
       "       [ 87.6],\n",
       "       [ 92.4],\n",
       "       [ 94.7],\n",
       "       [ 70.6],\n",
       "       [ 27.7],\n",
       "       [ 28.4],\n",
       "       [ 91.9],\n",
       "       [ 64.7],\n",
       "       [ 83.4],\n",
       "       [ 58. ],\n",
       "       [ 42.3],\n",
       "       [ 97.5],\n",
       "       [ 87.9],\n",
       "       [ 92.9],\n",
       "       [ 58.4],\n",
       "       [ 37.8],\n",
       "       [ 59.7],\n",
       "       [ 38.1],\n",
       "       [ 53.2],\n",
       "       [ 80.3],\n",
       "       [ 70.4],\n",
       "       [ 87.3],\n",
       "       [ 91.8],\n",
       "       [ 93.5],\n",
       "       [ 36.6],\n",
       "       [100. ],\n",
       "       [ 73.3],\n",
       "       [ 88.2],\n",
       "       [ 69.7],\n",
       "       [ 18.5],\n",
       "       [ 78.3],\n",
       "       [100. ],\n",
       "       [ 58.5],\n",
       "       [ 96. ],\n",
       "       [ 31.9],\n",
       "       [100. ],\n",
       "       [ 85.2],\n",
       "       [100. ],\n",
       "       [ 98.3],\n",
       "       [ 95.4],\n",
       "       [100. ],\n",
       "       [ 40. ],\n",
       "       [ 28.8],\n",
       "       [ 17.8],\n",
       "       [ 24.8],\n",
       "       [ 56.1],\n",
       "       [ 52.9],\n",
       "       [ 53.6],\n",
       "       [ 95.4],\n",
       "       [100. ],\n",
       "       [ 39. ],\n",
       "       [ 68.2],\n",
       "       [ 94.4],\n",
       "       [ 94.6],\n",
       "       [100. ],\n",
       "       [100. ],\n",
       "       [ 34.5],\n",
       "       [ 91.3],\n",
       "       [ 57.8],\n",
       "       [ 63. ],\n",
       "       [ 54.3],\n",
       "       [ 93.3],\n",
       "       [100. ],\n",
       "       [ 74.4],\n",
       "       [  2.9],\n",
       "       [ 92.4],\n",
       "       [ 82.5],\n",
       "       [ 52.5],\n",
       "       [ 49.7],\n",
       "       [ 32. ],\n",
       "       [ 90.8],\n",
       "       [ 54.2],\n",
       "       [ 34.2],\n",
       "       [ 99.3],\n",
       "       [ 79.9],\n",
       "       [ 86.5],\n",
       "       [ 94.3],\n",
       "       [ 32.3],\n",
       "       [ 59.7],\n",
       "       [ 97.3],\n",
       "       [ 36.9],\n",
       "       [ 23.4],\n",
       "       [ 42.4],\n",
       "       [ 93.4],\n",
       "       [ 85.5],\n",
       "       [ 82. ],\n",
       "       [ 67. ],\n",
       "       [ 43.7],\n",
       "       [ 13.9],\n",
       "       [ 98.2],\n",
       "       [ 88.8],\n",
       "       [ 92.6],\n",
       "       [ 68.1],\n",
       "       [ 81.8],\n",
       "       [ 45.6],\n",
       "       [ 98.2],\n",
       "       [ 95.6],\n",
       "       [ 98.2],\n",
       "       [ 67.8],\n",
       "       [ 98.2],\n",
       "       [ 98.8],\n",
       "       [ 77. ],\n",
       "       [100. ],\n",
       "       [ 28.9],\n",
       "       [ 56.7],\n",
       "       [ 59.5],\n",
       "       [ 47.4],\n",
       "       [ 84.5],\n",
       "       [ 94. ],\n",
       "       [ 15.8],\n",
       "       [100. ],\n",
       "       [ 48.2],\n",
       "       [100. ],\n",
       "       [ 56. ],\n",
       "       [ 32.2],\n",
       "       [ 93.9],\n",
       "       [ 89.3],\n",
       "       [ 59.6],\n",
       "       [ 76.5],\n",
       "       [ 72.7],\n",
       "       [ 53.8],\n",
       "       [ 31.1],\n",
       "       [ 83. ],\n",
       "       [  8.9],\n",
       "       [ 42.6],\n",
       "       [ 65.4],\n",
       "       [ 17.7],\n",
       "       [ 44.4],\n",
       "       [ 61.5],\n",
       "       [ 38.4],\n",
       "       [ 90.8],\n",
       "       [  6.5],\n",
       "       [ 85.1],\n",
       "       [100. ],\n",
       "       [ 21.5],\n",
       "       [ 76.7],\n",
       "       [100. ],\n",
       "       [ 96.7],\n",
       "       [ 21.4],\n",
       "       [ 98.9],\n",
       "       [ 78.9],\n",
       "       [ 96.4],\n",
       "       [ 92.7],\n",
       "       [ 62. ],\n",
       "       [ 76.5],\n",
       "       [ 33.5],\n",
       "       [ 22.3],\n",
       "       [ 96.9],\n",
       "       [ 86.1],\n",
       "       [ 94.5],\n",
       "       [ 78.7],\n",
       "       [ 91.4],\n",
       "       [ 73.9],\n",
       "       [ 45.4],\n",
       "       [ 88. ],\n",
       "       [ 21.1],\n",
       "       [ 48.5],\n",
       "       [ 91.6],\n",
       "       [ 65.1],\n",
       "       [ 61.8],\n",
       "       [ 77.7],\n",
       "       [ 86.3],\n",
       "       [ 89.5],\n",
       "       [ 51.8],\n",
       "       [ 96.2],\n",
       "       [ 25.8],\n",
       "       [ 65.3],\n",
       "       [ 98.4],\n",
       "       [ 71.9],\n",
       "       [ 79.8],\n",
       "       [ 58.8],\n",
       "       [  7.8],\n",
       "       [ 47.6],\n",
       "       [ 89. ],\n",
       "       [ 45.7],\n",
       "       [ 88.4],\n",
       "       [ 68.7],\n",
       "       [ 94.8],\n",
       "       [ 38.9],\n",
       "       [ 76.7],\n",
       "       [ 89.9],\n",
       "       [ 41.1],\n",
       "       [ 95.2],\n",
       "       [ 29.2],\n",
       "       [ 95.3],\n",
       "       [ 28.1],\n",
       "       [ 61.5],\n",
       "       [  6.8],\n",
       "       [ 89.2],\n",
       "       [ 82.8],\n",
       "       [ 84.4],\n",
       "       [ 92.6],\n",
       "       [ 49. ],\n",
       "       [100. ],\n",
       "       [ 30.8],\n",
       "       [ 98.1],\n",
       "       [ 18.4],\n",
       "       [100. ],\n",
       "       [ 56.4],\n",
       "       [ 86.9],\n",
       "       [ 82.5],\n",
       "       [ 94.9],\n",
       "       [ 98.9],\n",
       "       [100. ],\n",
       "       [ 81.3],\n",
       "       [ 62.5],\n",
       "       [ 89.6],\n",
       "       [ 56.8],\n",
       "       [ 83.7],\n",
       "       [ 32.2],\n",
       "       [  9.8],\n",
       "       [ 84.7],\n",
       "       [ 84.1],\n",
       "       [ 80.8],\n",
       "       [ 98.1],\n",
       "       [ 29.1],\n",
       "       [ 17.5],\n",
       "       [ 91.9],\n",
       "       [ 42.1],\n",
       "       [ 29.7],\n",
       "       [ 94.6],\n",
       "       [ 85.4]])"
      ]
     },
     "execution_count": 66,
     "metadata": {},
     "output_type": "execute_result"
    }
   ],
   "source": [
    "X_train_new\n"
   ]
  },
  {
   "cell_type": "code",
   "execution_count": 71,
   "metadata": {},
   "outputs": [
    {
     "data": {
      "text/plain": [
       "(339, 1)"
      ]
     },
     "execution_count": 71,
     "metadata": {},
     "output_type": "execute_result"
    }
   ],
   "source": [
    "y.shape"
   ]
  },
  {
   "cell_type": "code",
   "execution_count": null,
   "metadata": {},
   "outputs": [],
   "source": []
  }
 ],
 "metadata": {
  "kernelspec": {
   "display_name": "Python 3",
   "language": "python",
   "name": "python3"
  },
  "language_info": {
   "codemirror_mode": {
    "name": "ipython",
    "version": 3
   },
   "file_extension": ".py",
   "mimetype": "text/x-python",
   "name": "python",
   "nbconvert_exporter": "python",
   "pygments_lexer": "ipython3",
   "version": "3.6.5"
  }
 },
 "nbformat": 4,
 "nbformat_minor": 2
}
